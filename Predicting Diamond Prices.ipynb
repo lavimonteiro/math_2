{
 "cells": [
  {
   "cell_type": "markdown",
   "id": "0d1e73f1",
   "metadata": {},
   "source": [
    "# Predicting Diamond Prices\n",
    "\n",
    "## Phase 1: Data preparation & Visualisation\n",
    "\n",
    "<br>\n",
    "\n",
    "\n",
    "Group name: Group 27 <br>\n",
    "\n",
    "Name & IDs of group members: "
   ]
  },
  {
   "cell_type": "markdown",
   "id": "7257f5de",
   "metadata": {},
   "source": [
    "## Table of Contents\n",
    "  * [Introduction](#Introduction)\n",
    "    + [Dataset Source](#Dataset-Source)\n",
    "    + [Dataset Details](#Dataset-Details)\n",
    "    + [Dataset Variables](#Dataset-Variables)\n",
    "  * [Target Feature](#Target-Feature)\n",
    "  * [Goals and Objectives](#Goals-and-Objectives)\n",
    "  * [Data Cleaning and Preprocessing](#Data-Cleaning-and-Preprocessing)\n",
    "    + [Missing Values](#Missing-values)\n",
    "    + [Incorrect Values](#Incorrect-values)\n",
    "    + [Calculating and Removing Outliers](#Calculating-and-Removing-Outliers)\n",
    "    + [Aggregation](#Aggregation)\n",
    "    + [Renaming-Columns](#Renaming-Columns)\n",
    "    + [Random Sampling](#Random-Sampling)\n",
    "  * [Data Exploration and Visualisation](#Data-Exploration-and-Visualisation)\n",
    "    + [Univariable Visualisation](#Univariable-Visualisation)\n",
    "    + [Two Variable Visualisation](#Two-Variable-Visualisation)\n",
    "    + [Three Variable Visualisation](#Three-Variable-Visualisation)\n",
    "  * [Summary and Conclusion](#Summary-and-Conclusion)\n",
    "  * [References](#References)"
   ]
  },
  {
   "cell_type": "markdown",
   "id": "083441d7",
   "metadata": {},
   "source": [
    "# Introduction \n",
    "\n",
    "## Dataset Source\n",
    "\n",
    "The 'Diamonds' dataset was used in a study conducted by Shivam Agrawal and sourced from Kaggle 2022. It analyzes almost 54,000 diamonds by their cut, colour, clarity, price and other attributes.\n",
    "\n",
    "## Dataset Details\n",
    "\n",
    "This dataset involves various details about diamonds to help with data analysis and visualization based on their attributes. These attributes include carat, cut, color, clarity, depth percentage, table, price, length, width and depth. These attributes make it sufficient to predict the price of diamonds through predictive modelling."
   ]
  },
  {
   "cell_type": "code",
   "execution_count": null,
   "id": "7ad86620",
   "metadata": {},
   "outputs": [],
   "source": [
    "import warnings\n",
    "warnings.filterwarnings(\"ignore\")\n",
    "\n",
    "import numpy as np\n",
    "import pandas as pd\n",
    "\n",
    "pd.set_option('display.max_columns', None) \n",
    "\n",
    "###\n",
    "import matplotlib.pyplot as plt\n",
    "import seaborn as sns\n",
    "%matplotlib inline \n",
    "%config InlineBackend.figure_format = 'retina'\n",
    "plt.style.use(\"seaborn\")\n",
    "\n",
    "#Name of the dataset to be imported and read\n",
    "df = pd.read_csv('diamonds.csv')\n",
    "\n",
    "print(\"Number of rows in the dataset:\", df.shape[0])\n",
    "print(\"Number of columns in the dataset:\", df.shape[1])"
   ]
  },
  {
   "cell_type": "markdown",
   "id": "8c0ff66e",
   "metadata": {},
   "source": [
    "These are 10 randomly generated observations from the Diamonds dataset."
   ]
  },
  {
   "cell_type": "code",
   "execution_count": null,
   "id": "1fef1a3f",
   "metadata": {
    "scrolled": true
   },
   "outputs": [],
   "source": [
    "df.sample(10, random_state=5)"
   ]
  },
  {
   "cell_type": "markdown",
   "id": "45a69422",
   "metadata": {},
   "source": [
    "## Dataset Variables\n",
    "\n",
    "The attributes of each column in this dataset are described in this table.\n",
    "\n",
    "#### Table 1: Description of features in this dataset\n",
    "\n",
    "| Name | Data type | Units | Description | \n",
    "| :-- | :-- | :-- | :-- |\n",
    "| Index counter | Discrete Numeric | NA | Index of each diamond |\n",
    "| Carat | Continuous Numeric | Carats | Carat weight of diamond (1 carat = 0.20g) |\n",
    "| Cut | Ordinal Categorical | NA | Quality of cut; Increasing order: Fair, Good, Very Good,Premium, Ideal |\n",
    "| Color | Ordinal Categorical | NA | Colour grade of diamond; (best)D, E, F, G, H, I, J(worst) |\n",
    "| Clarity | Ordinal Categorical | NA | How obvious inclusions(small imperfections) are within the diamonds. List from best to worst: <br> <b>IF:</b> flawless <br><b>VVS1 or VVS2:</b> Very Very Slightly Included <br> <b>VS1 or VS2:</b> Very Slightly Included <br> <b>SI1 or SI2</b>: Slightly Included <br> <b>I1 or I2</b>:Included|\n",
    "| Table | Continuous Numeric | Percentage | width of the diamond's table(facet seen when diamond is viwed face up) relative to it's widest point |\n",
    "| price | Continuous Numeric | US dollars | cost of the diamond |\n",
    "| x | Continuous Numeric | Millimeter | length of the diamond |\n",
    "| y | Continuous Numeric | Millimeter | width of the diamond |\n",
    "| z | Continuous Numeric | Millimeter | depth of the diamond |\n",
    "| Depth | Continuous Numeric | percentage | Depth percentage measured from the cutlet(flat face at the bottom of the gemstone) to the table, divided by its girdle(line that separates the crown from the pavilion of the edge of a diamond) diameter |"
   ]
  },
  {
   "cell_type": "markdown",
   "id": "7ab05b02",
   "metadata": {},
   "source": [
    "# Target Feature\n",
    "\n",
    "The aim of this report is to investigate how a range of different variable can impact the perceive value of a diamond. Therefore, the Target feature for this project will be price of diamonds in US dollars, as it's a direct representation of its value. "
   ]
  },
  {
   "cell_type": "markdown",
   "id": "c1f01a03",
   "metadata": {},
   "source": [
    "# Goals and Objectives\n",
    "\n",
    "Throughout history, people have been drawn to exquisite and unique items. Diamonds are regarded as the pinnacle of luxury in jewelery, as they have been prized as jewels from ancient times and are admired for their brilliance. Diamonds are treasured for much more than just their alluring beauty, though. They have different qualities that allow people to use it for many different purposes such as a cutting tool, and other tasks requiring durability. This makes diamonds valued beyond all other stones due to their distinctive physical characteristics and are the most popular gemstone in the world."
   ]
  },
  {
   "cell_type": "markdown",
   "id": "eaaa6e44",
   "metadata": {},
   "source": [
    "Because of these different aspects that discussed previously, a predictive model for diamonds' prices would have many practical use and applications in the real world. For example, it could help buyers determine if the price of a singular diamond is reasonable. Potential sellers of jewelry could also use this model to predict an estimate of the price of their diamond."
   ]
  },
  {
   "cell_type": "markdown",
   "id": "96fba209",
   "metadata": {},
   "source": [
    "There are 2 main objectives in this project. The first one is to predict the price of diamonds based on a number of different features, and which features appear to be the greatest indicators or predictors of the diamonds' prices. In addition to that, after some data preprocessing and preparation, which is the focus of this Phase 1 report, the second goal is to undertake some exploratory data analysis using basic descriptive statistics and data visualisation plots to obtain some insight into the patterns and correlations existent in the data."
   ]
  },
  {
   "cell_type": "markdown",
   "id": "e9b7fda2",
   "metadata": {},
   "source": [
    "At this stage, our presumption is that our dataset's rows are not associated. That is, we are assuming that the price of a certain diamond doesn't affect the price of another in this dataset. By making this assumption, we are able to utilize traditional predictive models such as multiple linear regression."
   ]
  },
  {
   "cell_type": "markdown",
   "id": "b4f4c992",
   "metadata": {},
   "source": [
    "# Data Cleaning and Preprocessing\n",
    "\n",
    "This process aims to identify data quality issues and transform the data accordingly to ensure that the raw that is suitable for processing and analytics such as predictive modeling, increasing the validity of the data. Data cleaning and preprocessing undertaken for this project include:\n",
    "- Check for missing values, and removing rows accordingly\n",
    "- Identify and remove any incorrect values such as outliers\n",
    "- Data aggregation including encoding categorical columns\n",
    "- Check columns names and modify is necessary"
   ]
  },
  {
   "cell_type": "markdown",
   "id": "9aacf542",
   "metadata": {},
   "source": [
    "Let's first display all columns in the dataset"
   ]
  },
  {
   "cell_type": "code",
   "execution_count": null,
   "id": "b8093a1d",
   "metadata": {},
   "outputs": [],
   "source": [
    "df.columns"
   ]
  },
  {
   "cell_type": "markdown",
   "id": "da9c48d9",
   "metadata": {},
   "source": [
    "## Missing Values "
   ]
  },
  {
   "cell_type": "code",
   "execution_count": null,
   "id": "df0e1291",
   "metadata": {},
   "outputs": [],
   "source": [
    "#check for missing values here \n",
    "print(\"Number of missing values for each column:\")\n",
    "df.isnull().sum()"
   ]
  },
  {
   "cell_type": "markdown",
   "id": "d7d3d323",
   "metadata": {},
   "source": [
    "As there are no null or missing values in this dataset, no rows will need to be dropped for this step."
   ]
  },
  {
   "cell_type": "markdown",
   "id": "09413c81",
   "metadata": {},
   "source": [
    "## Incorrect Values\n",
    "\n",
    "The aim of this step is to identify values that are Inherently incorrect, such as negative values or outliers "
   ]
  },
  {
   "cell_type": "code",
   "execution_count": null,
   "id": "5b118a1e",
   "metadata": {
    "scrolled": false
   },
   "outputs": [],
   "source": [
    "#check for outliers\n",
    "from IPython.display import display, HTML\n",
    "display(HTML('<b>Table 2: Summary of numerical features</b>'))\n",
    "df.describe(include=['int64','float64']).T"
   ]
  },
  {
   "cell_type": "markdown",
   "id": "6c3223ad",
   "metadata": {},
   "source": [
    "Through analysing the summary of numerical features for this dataset, we are able to identify that no feature has a negative value as all the minimum values are greater or equal to zero. However, further examination of individual values from table 2 indicate that existence of outliers for the following columns:\n",
    "- carat\n",
    "- price\n",
    "- x\n",
    "- y\n",
    "- z\n",
    "\n",
    "This was identified through examining the minimum and maximum values of each column and comparing it its mean, as a minimum or maximum value that have a large gap from its mean may indicate the presence of outliers."
   ]
  },
  {
   "cell_type": "markdown",
   "id": "f64297a6",
   "metadata": {},
   "source": [
    "## Calculating and Removing Outliers"
   ]
  },
  {
   "cell_type": "code",
   "execution_count": null,
   "id": "98544d9f",
   "metadata": {},
   "outputs": [],
   "source": [
    "#calculating whisker for carat\n",
    "iqr_c = 1.04 - 0.40\n",
    "lowerwhisker_c = 0.40 - 1.5*iqr_c\n",
    "upperwhisker_c = 1.04 + 1.5*iqr_c\n",
    "print(f\"Lower whisker: {lowerwhisker_c}, Upper whisker: {upperwhisker_c}\")\n",
    "\n",
    "df = df[(df['carat'] > lowerwhisker_c) & (df['carat'] < upperwhisker_c)]"
   ]
  },
  {
   "cell_type": "code",
   "execution_count": null,
   "id": "494e6cc3",
   "metadata": {},
   "outputs": [],
   "source": [
    "#calculating whisker for length\n",
    "iqr_x = 6.54 - 4.71\n",
    "lowerwhisker_x = 4.71 - 1.5*iqr_x\n",
    "upperwhisker_x = 6.54 + 1.5*iqr_x\n",
    "print(f\"Lower whisker: {lowerwhisker_x}, Upper whisker: {upperwhisker_x}\")\n",
    "\n",
    "df = df[(df['x'] > lowerwhisker_x) & (df['x'] < upperwhisker_x)]"
   ]
  },
  {
   "cell_type": "code",
   "execution_count": null,
   "id": "965842ee",
   "metadata": {},
   "outputs": [],
   "source": [
    "#calculating whisker for width\n",
    "iqr_y = 6.54 - 4.72\n",
    "lowerwhisker_y = 4.72 - 1.5*iqr_y\n",
    "upperwhisker_y = 6.54 + 1.5*iqr_y\n",
    "print(f\"Lower whisker: {lowerwhisker_y}, Upper whisker: {upperwhisker_y}\")\n",
    "\n",
    "df = df[(df['y'] > lowerwhisker_y) & (df['y'] < upperwhisker_y)]"
   ]
  },
  {
   "cell_type": "code",
   "execution_count": null,
   "id": "4cf135d4",
   "metadata": {},
   "outputs": [],
   "source": [
    "#calculating whisker for depth\n",
    "\n",
    "iqr_z = 4.04 - 2.91\n",
    "lowerwhisker_z = 2.91 - 1.5*iqr_z\n",
    "upperwhisker_z = 4.04 + 1.5*iqr_z\n",
    "print(f\"Lower whisker: {lowerwhisker_z}, Upper whisker: {upperwhisker_z}\")\n",
    "\n",
    "df = df[(df['z'] > lowerwhisker_z) & (df['z'] < upperwhisker_z)]"
   ]
  },
  {
   "cell_type": "code",
   "execution_count": null,
   "id": "132125f1",
   "metadata": {},
   "outputs": [],
   "source": [
    "#calculating whisker for price\n",
    "iqr_p = 5324.25 - 950.0\n",
    "lowerwhisker_p = 5324.25 - 1.5*iqr_p\n",
    "upperwhisker_p = 950.0 + 1.5*iqr_p\n",
    "print(f\"Lower whisker: {lowerwhisker_p}, Upper whisker: {upperwhisker_p}\")\n",
    "\n",
    "df = df[(df['price'] > lowerwhisker_p) & (df['price'] < upperwhisker_p)]"
   ]
  },
  {
   "cell_type": "code",
   "execution_count": null,
   "id": "7d289e40",
   "metadata": {},
   "outputs": [],
   "source": [
    "df.describe(include=['int64','float64']).T "
   ]
  },
  {
   "cell_type": "markdown",
   "id": "d9a8c879",
   "metadata": {},
   "source": [
    "## Aggregation"
   ]
  },
  {
   "cell_type": "code",
   "execution_count": null,
   "id": "2a345710",
   "metadata": {
    "scrolled": true
   },
   "outputs": [],
   "source": [
    "#encoding cut\n",
    "cut = {'Fair': 0, 'Good': 1, 'Very Good': 2, 'Premium': 3, 'Ideal': 4}\n",
    "df['cut'].replace(cut, inplace=True)\n",
    "df.head()"
   ]
  },
  {
   "cell_type": "code",
   "execution_count": null,
   "id": "b2d82a04",
   "metadata": {},
   "outputs": [],
   "source": [
    "#encoding color\n",
    "color = {'D': 6, 'E': 5, 'F': 4, 'G': 3, 'H': 2, 'I': 1, 'J': 0}\n",
    "df['color'].replace(color, inplace=True)\n",
    "df.head()"
   ]
  },
  {
   "cell_type": "code",
   "execution_count": null,
   "id": "1d6a6ab2",
   "metadata": {},
   "outputs": [],
   "source": [
    "#encoding clarity\n",
    "clarity = {'I2': 0, 'I1': 1, 'SI2': 2, 'SI1': 3, 'VS2': 4, 'VS1': 5, 'VVS2': 6, 'VVS1': 7, 'IF': 8}\n",
    "df['clarity'].replace(clarity, inplace=True)\n",
    "df.head()"
   ]
  },
  {
   "cell_type": "code",
   "execution_count": null,
   "id": "cd6075dd",
   "metadata": {},
   "outputs": [],
   "source": [
    "print(f\"This is the dataset shape: {df.shape} \\n\")\n",
    "print(f\"These are the data types; 'object' stands for string type:\")\n",
    "print(df.dtypes)"
   ]
  },
  {
   "cell_type": "markdown",
   "id": "4f343864",
   "metadata": {},
   "source": [
    "## Renaming Columns"
   ]
  },
  {
   "cell_type": "code",
   "execution_count": null,
   "id": "3d31f603",
   "metadata": {},
   "outputs": [],
   "source": [
    "df.columns"
   ]
  },
  {
   "cell_type": "code",
   "execution_count": null,
   "id": "499aedfd",
   "metadata": {},
   "outputs": [],
   "source": [
    "#Changing name of columns\n",
    "df.columns = df.columns.str.lower().str.strip()\n",
    "\n",
    "columns_mapping = {\n",
    "    'depth': 'depth percentage',\n",
    "    'x': 'length',\n",
    "    'y': 'width',\n",
    "    'z': 'depth',\n",
    "}\n",
    "\n",
    "df = df.rename(columns = columns_mapping)\n",
    "df.sample(5, random_state=999)"
   ]
  },
  {
   "cell_type": "markdown",
   "id": "f5829ffe",
   "metadata": {},
   "source": [
    "## Random Sampling"
   ]
  },
  {
   "cell_type": "code",
   "execution_count": null,
   "id": "24941713",
   "metadata": {},
   "outputs": [],
   "source": [
    "df = df.sample(n=1500, random_state=5)\n",
    "df.shape\n",
    "df.sample(5, random_state=5)"
   ]
  },
  {
   "cell_type": "markdown",
   "id": "2fb68580",
   "metadata": {},
   "source": [
    "# Data Exploration and Visualisation"
   ]
  },
  {
   "cell_type": "markdown",
   "id": "0ccbfdeb",
   "metadata": {},
   "source": [
    "## Univariable Visualisation"
   ]
  },
  {
   "cell_type": "markdown",
   "id": "7eb3997f",
   "metadata": {},
   "source": [
    "### Histogram of diamond length"
   ]
  },
  {
   "cell_type": "code",
   "execution_count": null,
   "id": "23d92f57",
   "metadata": {},
   "outputs": [],
   "source": [
    "sns.histplot(df['length'], bins= 10, color='deeppink')\n",
    "plt.xlabel (\"Length of a diamond\")\n",
    "plt.ylabel (\"Count\")\n",
    "plt.title(\"Histogram of length of diamonds\")\n",
    "plt.show()"
   ]
  },
  {
   "cell_type": "markdown",
   "id": "7a72064e",
   "metadata": {},
   "source": [
    "### Boxplot of price of diamond"
   ]
  },
  {
   "cell_type": "code",
   "execution_count": null,
   "id": "7e3d3c9a",
   "metadata": {},
   "outputs": [],
   "source": [
    "plt.title(\"Boxplot of price of diamond\")\n",
    "sns.boxplot(df['price'], color='skyblue')\n",
    "plt.xlabel('price')\n",
    "plt.ylabel('Number of diamonds')\n",
    "plt.show()"
   ]
  },
  {
   "cell_type": "markdown",
   "id": "2976bc01",
   "metadata": {},
   "source": [
    "### Histogram of clarity of diamond grade"
   ]
  },
  {
   "cell_type": "code",
   "execution_count": null,
   "id": "11d78208",
   "metadata": {},
   "outputs": [],
   "source": [
    "plt.title(\"Histogram of Clarity of Diamonds\")\n",
    "sns.histplot(df['clarity'], bins=8, color='red')\n",
    "plt.xlabel(\"Grade for Clarity of Diamonds\")\n",
    "plt.ylabel(\"Number of Diamonds\")\n",
    "plt.show()"
   ]
  },
  {
   "cell_type": "markdown",
   "id": "84a73975",
   "metadata": {},
   "source": [
    "### Histogram of carat"
   ]
  },
  {
   "cell_type": "code",
   "execution_count": null,
   "id": "49939f47",
   "metadata": {},
   "outputs": [],
   "source": [
    "sns.histplot(df['carat'], bins = 10)\n",
    "plt.xlabel(\"Carat of a diamond\")\n",
    "plt.ylabel(\"Count\")\n",
    "plt.title(\"Histogram of Carat of Diamonds\")\n",
    "plt.show();"
   ]
  },
  {
   "cell_type": "markdown",
   "id": "067e59ca",
   "metadata": {},
   "source": [
    "## Two Variable Visualisation"
   ]
  },
  {
   "cell_type": "markdown",
   "id": "f911a7d6",
   "metadata": {},
   "source": [
    "### Scatterplot of price of diamonds according to their length"
   ]
  },
  {
   "cell_type": "code",
   "execution_count": null,
   "id": "4b74d2fd",
   "metadata": {},
   "outputs": [],
   "source": [
    "sns.scatterplot(df['length'], df['price'])\n",
    "plt.xlabel(\"Length of a diamond\")\n",
    "plt.ylabel(\"Price of diamond\")\n",
    "plt.title(\"Scatter Plot of length and price\")\n",
    "plt.show();"
   ]
  },
  {
   "cell_type": "code",
   "execution_count": null,
   "id": "b1dd6d59",
   "metadata": {},
   "outputs": [],
   "source": [
    "plt.title(\"Boxplot or price grouped by clarity\")\n",
    "sns.boxplot(x=\"clarity\", y=\"price\", data=df, palette=\"rocket_r\")"
   ]
  },
  {
   "cell_type": "markdown",
   "id": "6bd65557",
   "metadata": {},
   "source": [
    "### Scatterplot of table and depth percentage against price"
   ]
  },
  {
   "cell_type": "code",
   "execution_count": null,
   "id": "c88bb7d6",
   "metadata": {},
   "outputs": [],
   "source": [
    "fig = plt.figure()\n",
    "fig.set_figwidth(20)\n",
    "ax1 = fig.add_subplot(121)\n",
    "ax2 = fig.add_subplot(122)\n",
    "\n",
    "\n",
    "\n",
    "ax1.scatter(df['table'], df['price'])\n",
    "ax1.set_title('Scatterplot of price and table percentage')\n",
    "ax1.set_xlabel('table percentage')\n",
    "ax1.set_ylabel('price')\n",
    "\n",
    "\n",
    "ax2.scatter(df['depth percentage'], df['price'])\n",
    "ax2.set_title('Scatterplot of price and depth percentage')\n",
    "ax2.set_xlabel('depth percentage')\n",
    "ax2.set_ylabel('price')\n",
    "plt.show()"
   ]
  },
  {
   "cell_type": "code",
   "execution_count": null,
   "id": "656cae8b",
   "metadata": {},
   "outputs": [],
   "source": [
    "#alternate version \n",
    "sns.relplot(data=df, x=\"carat\", y=\"price\", kind=\"line\")\n",
    "plt.title('Plot of carrat and price of the diamond')"
   ]
  },
  {
   "cell_type": "markdown",
   "id": "52450361",
   "metadata": {},
   "source": [
    "## Three Variable Visualisation"
   ]
  },
  {
   "cell_type": "markdown",
   "id": "a0bf95ec",
   "metadata": {},
   "source": [
    "### Scatter plot of price of diamonds depending on its length and categorised by color"
   ]
  },
  {
   "cell_type": "code",
   "execution_count": null,
   "id": "c5e85c52",
   "metadata": {},
   "outputs": [],
   "source": [
    "sns.scatterplot(df['length'], df['price'], hue = df['color'])\n",
    "plt.title(\"Scatterplot of price by length and color\")\n",
    "plt.xlabel(\"Length of a diamond\")\n",
    "plt.ylabel(\"Price of diamond\")\n",
    "plt.show();"
   ]
  },
  {
   "cell_type": "code",
   "execution_count": null,
   "id": "63b0e9e2",
   "metadata": {},
   "outputs": [],
   "source": [
    "sns.scatterplot(df['carat'], df['price'], hue = df['length'], data = df, palette=\"viridis\")\n",
    "plt.title('Scatterplot of Diamond Prices by Carat and Length', fontsize = 15)\n",
    "plt.xlabel('length')\n",
    "plt.ylabel('Diamond Prices')\n",
    "plt.legend(loc='lower right', title='Length')\n",
    "plt.show();"
   ]
  },
  {
   "cell_type": "code",
   "execution_count": null,
   "id": "00a9741c",
   "metadata": {},
   "outputs": [],
   "source": [
    "sns.scatterplot(df['carat'], df['price'], hue = df['clarity'], palette=\"rocket_r\")\n",
    "plt.title(\"Scatter plot of Price by Carat coloured by Clarity\")\n",
    "plt.show();"
   ]
  },
  {
   "cell_type": "code",
   "execution_count": null,
   "id": "be82cee5",
   "metadata": {},
   "outputs": [],
   "source": [
    "x = sns.boxplot(df['color'], df['price'], hue = df['cut'], palette=\"flare\")\n",
    "\n",
    "x.legend(bbox_to_anchor=(1.05, 1),loc=2, borderaxespad=0.,\n",
    "          title=\"Cut Grade\");"
   ]
  },
  {
   "cell_type": "code",
   "execution_count": null,
   "id": "c011f698",
   "metadata": {},
   "outputs": [],
   "source": [
    "bp=sns.boxplot(x=df['clarity'],\n",
    "               y=df['price'],\n",
    "               hue=df['cut'], \n",
    "               data=df, palette=\"viridis\");\n",
    "\n",
    "bp.legend(bbox_to_anchor=(1.05, 1),loc=2, borderaxespad=0.,\n",
    "          title=\"Cut Grade\");\n",
    "\n",
    "plt.title(\"Boxplot of price according to clarity and cut\");"
   ]
  },
  {
   "cell_type": "code",
   "execution_count": null,
   "id": "0e2aab8b",
   "metadata": {},
   "outputs": [],
   "source": [
    "sns.scatterplot(df['clarity'], df['price'], hue = df['length'], data = df)\n",
    "plt.title('Scatterplot of Diamond Prices by Clarity and Length', fontsize = 15);\n",
    "plt.xlabel('Clarity')\n",
    "plt.ylabel('Diamond prices')\n",
    "plt.legend(loc='lower right', title='Length')\n",
    "plt.show();"
   ]
  },
  {
   "cell_type": "markdown",
   "id": "4269ce0c",
   "metadata": {},
   "source": [
    "# Summary and Conclusion\n",
    "\n",
    "add the summary here"
   ]
  },
  {
   "cell_type": "markdown",
   "id": "5429020a",
   "metadata": {},
   "source": [
    "# References\n",
    "\n",
    "Uses of diamonds - Mining for schools. (n.d.). <br> Www.miningforschools.co.za. https://www.miningforschools.co.za/lets-explore/diamond/uses-of-diamonds\n",
    "\n",
    "‌"
   ]
  }
 ],
 "metadata": {
  "kernelspec": {
   "display_name": "Python 3 (ipykernel)",
   "language": "python",
   "name": "python3"
  },
  "language_info": {
   "codemirror_mode": {
    "name": "ipython",
    "version": 3
   },
   "file_extension": ".py",
   "mimetype": "text/x-python",
   "name": "python",
   "nbconvert_exporter": "python",
   "pygments_lexer": "ipython3",
   "version": "3.9.12"
  },
  "varInspector": {
   "cols": {
    "lenName": 16,
    "lenType": 16,
    "lenVar": 40
   },
   "kernels_config": {
    "python": {
     "delete_cmd_postfix": "",
     "delete_cmd_prefix": "del ",
     "library": "var_list.py",
     "varRefreshCmd": "print(var_dic_list())"
    },
    "r": {
     "delete_cmd_postfix": ") ",
     "delete_cmd_prefix": "rm(",
     "library": "var_list.r",
     "varRefreshCmd": "cat(var_dic_list()) "
    }
   },
   "types_to_exclude": [
    "module",
    "function",
    "builtin_function_or_method",
    "instance",
    "_Feature"
   ],
   "window_display": false
  }
 },
 "nbformat": 4,
 "nbformat_minor": 5
}
