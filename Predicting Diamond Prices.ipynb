{
 "cells": [
  {
   "cell_type": "markdown",
   "id": "120b6411",
   "metadata": {},
   "source": [
    "# fill in with table of content later (5)"
   ]
  },
  {
   "cell_type": "markdown",
   "id": "083441d7",
   "metadata": {},
   "source": [
    "# introduction \n",
    "\n",
    "## Dataset source (3)\n",
    "\n",
    "The 'Diamonds' dataset was used in a study conducted by Shivam Agrawal and sourced from Kaggle 2022. It analyzes almost 54,000 diamonds by their cut, colour, clarity, price and other attributes.\n",
    "\n",
    "## Dataset details (5)\n",
    "\n",
    "This dataset involves various details about diamonds to help with data analysis and visualization based on their attributes. These attributes include carat, cut, color, clarity, depth percentage, table, price, length, width and depth. These attributes make it sufficient to predict the price of diamonds through predictive modelling."
   ]
  },
  {
   "cell_type": "code",
   "execution_count": 1,
   "id": "7ad86620",
   "metadata": {},
   "outputs": [
    {
     "name": "stdout",
     "output_type": "stream",
     "text": [
      "Number of rows: 53940\n",
      "Number of columns: 10\n"
     ]
    }
   ],
   "source": [
    "import warnings\n",
    "warnings.filterwarnings(\"ignore\")\n",
    "\n",
    "import numpy as np\n",
    "import pandas as pd\n",
    "\n",
    "pd.set_option('display.max_columns', None) \n",
    "\n",
    "###\n",
    "import matplotlib.pyplot as plt\n",
    "import seaborn as sns\n",
    "%matplotlib inline \n",
    "%config InlineBackend.figure_format = 'retina'\n",
    "plt.style.use(\"seaborn\")\n",
    "\n",
    "df = pd.read_csv('diamonds.csv')\n",
    "\n",
    "print(\"Number of rows:\", df.shape[0])\n",
    "print(\"Number of columns:\", df.shape[1])"
   ]
  },
  {
   "cell_type": "markdown",
   "id": "8c0ff66e",
   "metadata": {},
   "source": [
    "10 randomly generated observations from the Diamonds dataset."
   ]
  },
  {
   "cell_type": "code",
   "execution_count": 2,
   "id": "1fef1a3f",
   "metadata": {
    "scrolled": true
   },
   "outputs": [
    {
     "data": {
      "text/html": [
       "<div>\n",
       "<style scoped>\n",
       "    .dataframe tbody tr th:only-of-type {\n",
       "        vertical-align: middle;\n",
       "    }\n",
       "\n",
       "    .dataframe tbody tr th {\n",
       "        vertical-align: top;\n",
       "    }\n",
       "\n",
       "    .dataframe thead th {\n",
       "        text-align: right;\n",
       "    }\n",
       "</style>\n",
       "<table border=\"1\" class=\"dataframe\">\n",
       "  <thead>\n",
       "    <tr style=\"text-align: right;\">\n",
       "      <th></th>\n",
       "      <th>carat</th>\n",
       "      <th>cut</th>\n",
       "      <th>color</th>\n",
       "      <th>clarity</th>\n",
       "      <th>depth</th>\n",
       "      <th>table</th>\n",
       "      <th>x</th>\n",
       "      <th>y</th>\n",
       "      <th>z</th>\n",
       "      <th>price</th>\n",
       "    </tr>\n",
       "  </thead>\n",
       "  <tbody>\n",
       "    <tr>\n",
       "      <th>4500</th>\n",
       "      <td>0.90</td>\n",
       "      <td>Premium</td>\n",
       "      <td>H</td>\n",
       "      <td>VS2</td>\n",
       "      <td>60.0</td>\n",
       "      <td>59.0</td>\n",
       "      <td>6.23</td>\n",
       "      <td>6.16</td>\n",
       "      <td>3.72</td>\n",
       "      <td>3629</td>\n",
       "    </tr>\n",
       "    <tr>\n",
       "      <th>38643</th>\n",
       "      <td>0.33</td>\n",
       "      <td>Ideal</td>\n",
       "      <td>F</td>\n",
       "      <td>VVS2</td>\n",
       "      <td>61.9</td>\n",
       "      <td>56.0</td>\n",
       "      <td>4.46</td>\n",
       "      <td>4.42</td>\n",
       "      <td>2.75</td>\n",
       "      <td>1040</td>\n",
       "    </tr>\n",
       "    <tr>\n",
       "      <th>4924</th>\n",
       "      <td>0.90</td>\n",
       "      <td>Good</td>\n",
       "      <td>H</td>\n",
       "      <td>SI1</td>\n",
       "      <td>57.1</td>\n",
       "      <td>56.0</td>\n",
       "      <td>6.33</td>\n",
       "      <td>6.28</td>\n",
       "      <td>3.60</td>\n",
       "      <td>3726</td>\n",
       "    </tr>\n",
       "    <tr>\n",
       "      <th>38167</th>\n",
       "      <td>0.34</td>\n",
       "      <td>Ideal</td>\n",
       "      <td>G</td>\n",
       "      <td>IF</td>\n",
       "      <td>60.1</td>\n",
       "      <td>57.0</td>\n",
       "      <td>4.54</td>\n",
       "      <td>4.58</td>\n",
       "      <td>2.74</td>\n",
       "      <td>1014</td>\n",
       "    </tr>\n",
       "    <tr>\n",
       "      <th>1937</th>\n",
       "      <td>0.90</td>\n",
       "      <td>Good</td>\n",
       "      <td>E</td>\n",
       "      <td>SI2</td>\n",
       "      <td>64.1</td>\n",
       "      <td>57.0</td>\n",
       "      <td>6.09</td>\n",
       "      <td>6.07</td>\n",
       "      <td>3.90</td>\n",
       "      <td>3084</td>\n",
       "    </tr>\n",
       "    <tr>\n",
       "      <th>34265</th>\n",
       "      <td>0.31</td>\n",
       "      <td>Premium</td>\n",
       "      <td>J</td>\n",
       "      <td>SI1</td>\n",
       "      <td>60.9</td>\n",
       "      <td>60.0</td>\n",
       "      <td>4.38</td>\n",
       "      <td>4.36</td>\n",
       "      <td>2.66</td>\n",
       "      <td>465</td>\n",
       "    </tr>\n",
       "    <tr>\n",
       "      <th>21774</th>\n",
       "      <td>1.51</td>\n",
       "      <td>Very Good</td>\n",
       "      <td>G</td>\n",
       "      <td>SI1</td>\n",
       "      <td>62.9</td>\n",
       "      <td>58.0</td>\n",
       "      <td>7.25</td>\n",
       "      <td>7.28</td>\n",
       "      <td>4.57</td>\n",
       "      <td>9841</td>\n",
       "    </tr>\n",
       "    <tr>\n",
       "      <th>4061</th>\n",
       "      <td>0.34</td>\n",
       "      <td>Very Good</td>\n",
       "      <td>E</td>\n",
       "      <td>SI2</td>\n",
       "      <td>63.1</td>\n",
       "      <td>56.0</td>\n",
       "      <td>4.51</td>\n",
       "      <td>4.46</td>\n",
       "      <td>2.83</td>\n",
       "      <td>571</td>\n",
       "    </tr>\n",
       "    <tr>\n",
       "      <th>10715</th>\n",
       "      <td>0.31</td>\n",
       "      <td>Good</td>\n",
       "      <td>D</td>\n",
       "      <td>SI2</td>\n",
       "      <td>63.7</td>\n",
       "      <td>55.0</td>\n",
       "      <td>4.35</td>\n",
       "      <td>4.32</td>\n",
       "      <td>2.76</td>\n",
       "      <td>593</td>\n",
       "    </tr>\n",
       "    <tr>\n",
       "      <th>9527</th>\n",
       "      <td>1.02</td>\n",
       "      <td>Very Good</td>\n",
       "      <td>H</td>\n",
       "      <td>SI1</td>\n",
       "      <td>63.0</td>\n",
       "      <td>58.0</td>\n",
       "      <td>6.34</td>\n",
       "      <td>6.40</td>\n",
       "      <td>4.01</td>\n",
       "      <td>4617</td>\n",
       "    </tr>\n",
       "  </tbody>\n",
       "</table>\n",
       "</div>"
      ],
      "text/plain": [
       "       carat        cut color clarity  depth  table     x     y     z  price\n",
       "4500    0.90    Premium     H     VS2   60.0   59.0  6.23  6.16  3.72   3629\n",
       "38643   0.33      Ideal     F    VVS2   61.9   56.0  4.46  4.42  2.75   1040\n",
       "4924    0.90       Good     H     SI1   57.1   56.0  6.33  6.28  3.60   3726\n",
       "38167   0.34      Ideal     G      IF   60.1   57.0  4.54  4.58  2.74   1014\n",
       "1937    0.90       Good     E     SI2   64.1   57.0  6.09  6.07  3.90   3084\n",
       "34265   0.31    Premium     J     SI1   60.9   60.0  4.38  4.36  2.66    465\n",
       "21774   1.51  Very Good     G     SI1   62.9   58.0  7.25  7.28  4.57   9841\n",
       "4061    0.34  Very Good     E     SI2   63.1   56.0  4.51  4.46  2.83    571\n",
       "10715   0.31       Good     D     SI2   63.7   55.0  4.35  4.32  2.76    593\n",
       "9527    1.02  Very Good     H     SI1   63.0   58.0  6.34  6.40  4.01   4617"
      ]
     },
     "execution_count": 2,
     "metadata": {},
     "output_type": "execute_result"
    }
   ],
   "source": [
    "df.sample(10, random_state=5)"
   ]
  },
  {
   "cell_type": "markdown",
   "id": "45a69422",
   "metadata": {},
   "source": [
    "## Dataset variables (18) \n",
    "\n",
    "Table explaining attributes of each column in this dataset\n",
    "\n",
    "#### Table 1: Description of features in this dataset\n",
    "\n",
    "| Name | Data type | Units | Description | \n",
    "| :-- | :-- | :-- | :-- |\n",
    "| Index counter | Discrete Numeric | NA | Index of each diamond |\n",
    "| Carat | Continuous Numeric | Carats | Carat weight of diamond (1 carat = 0.20g) |\n",
    "| Cut | Ordinal Categorical | NA | Quality of cut; Increasing order: Fair, Good, Very Good,Premium, Ideal |\n",
    "| Color | Ordinal Categorical | NA | Colour grade of diamond; (best)D, E, F, G, H, I, J(worst) |\n",
    "| Clarity | Ordinal Categorical | NA | How obvious inclusions(small imperfections) are within the diamonds. List from best to worst: <br> <b>IF:</b> flawless <br><b>VVS1 or VVS2:</b> Very Very Slightly Included <br> <b>VS1 or VS2:</b> Very Slightly Included <br> <b>SI1 or SI2</b>: Slightly Included <br> <b>I1 or I2</b>:Included|\n",
    "| Table | Continuous Numeric | Percentage | width of the diamond's table(facet seen when diamond is viwed face up) relative to it's widest point |\n",
    "| price | Continuous Numeric | US dollars | cost of the diamond |\n",
    "| x | Continuous Numeric | Millimeter | length of the diamond |\n",
    "| y | Continuous Numeric | Millimeter | width of the diamond |\n",
    "| y | Continuous Numeric | Millimeter | depth of the diamond |\n",
    "| Depth | Continuous Numeric | percentage | Depth percentage measured from the cutlet(flat face at the bottom of the gemstone) to the table, divided by its girdle(line that separates the crown from the pavilion of the edge of a diamond) diameter |"
   ]
  },
  {
   "cell_type": "markdown",
   "id": "7ab05b02",
   "metadata": {},
   "source": [
    "## Target variables (2)\n",
    "\n",
    "The aim of this report is to investigate how a range of different variable can impact the perceive value of a diamond. Therefore, the Target feature for this project will be price of diamonds in US dollars, as it's a direct representation of its value. "
   ]
  },
  {
   "cell_type": "markdown",
   "id": "c1f01a03",
   "metadata": {},
   "source": [
    "# Goals and objectives (7)\n",
    "\n",
    "Throughout history, people have been drawn to exquisite and unique items. Diamonds are regarded as the pinnacle of luxury in jewelery, as they have been prized as jewels from ancient times and are admired for their brilliance. Diamonds are treasured for much more than just their alluring beauty, though. They have different qualities that allow people to use it for many different purposes such as a cutting tool, and other tasks requiring durability. This makes diamonds valued beyond all other stones due to their distinctive physical characteristics and are the most popular gemstone in the world."
   ]
  },
  {
   "cell_type": "markdown",
   "id": "eaaa6e44",
   "metadata": {},
   "source": [
    "Because of these different aspects that discussed previously, a predictive model for diamonds' prices would have many practical use and applications in the real world. For example, it could help buyers determine if the price of a singular diamond is reasonable. Potential sellers of jewelry could also use this model to predict an estimate of the price of their diamond."
   ]
  },
  {
   "cell_type": "markdown",
   "id": "96fba209",
   "metadata": {},
   "source": [
    "There are 2 main objectives in this project. The first one is to predict the price of diamonds based on a number of different features, and which features appear to be the greatest indicators or predictors of the diamonds' prices. In addition to that, after some data preprocessing and preparation, which is the focus of this Phase 1 report, the second goal is to undertake some exploratory data analysis using basic descriptive statistics and data visualisation plots to obtain some insight into the patterns and correlations existent in the data."
   ]
  },
  {
   "cell_type": "markdown",
   "id": "e9b7fda2",
   "metadata": {},
   "source": [
    "At this stage, our presumption is that our dataset's rows are not associated. That is, we are assuming that the price of a certain diamond doesn't affect the price of another in this dataset. By making this assumption, we are able to utilize traditional predictive models such as multiple linear regression.\n",
    "(https://www.miningforschools.co.za/lets-explore/diamond/uses-of-diamonds)"
   ]
  },
  {
   "cell_type": "markdown",
   "id": "b4f4c992",
   "metadata": {},
   "source": [
    "# Data cleaning and Preprocessing (15)\n",
    "\n",
    "This process aims to identify data quality issues and transform the data accordingly to ensure that the raw that is suitable for processing and analytics such as predictive modeling, increasing the validity of the data. Data cleaning and preprocessing undertaken for this project include:\n",
    "- Check for missing values, and removing rows accordingly\n",
    "- Identify and remove any incorrect values such as outliers\n",
    "- Data aggregation including encoding categorical columns\n",
    "- Check columns names and modify is necessary"
   ]
  },
  {
   "cell_type": "markdown",
   "id": "da9c48d9",
   "metadata": {},
   "source": [
    "### Missing values "
   ]
  },
  {
   "cell_type": "code",
   "execution_count": 3,
   "id": "df0e1291",
   "metadata": {},
   "outputs": [
    {
     "name": "stdout",
     "output_type": "stream",
     "text": [
      "Number of missing values for each column:\n"
     ]
    },
    {
     "data": {
      "text/plain": [
       "carat      0\n",
       "cut        0\n",
       "color      0\n",
       "clarity    0\n",
       "depth      0\n",
       "table      0\n",
       "x          0\n",
       "y          0\n",
       "z          0\n",
       "price      0\n",
       "dtype: int64"
      ]
     },
     "execution_count": 3,
     "metadata": {},
     "output_type": "execute_result"
    }
   ],
   "source": [
    "#check for missing values here \n",
    "print(\"Number of missing values for each column:\")\n",
    "df.isnull().sum()"
   ]
  },
  {
   "cell_type": "markdown",
   "id": "d7d3d323",
   "metadata": {},
   "source": [
    "As there are no null or missing values in this dataset, no rows will need to be dropped for this step."
   ]
  },
  {
   "cell_type": "markdown",
   "id": "09413c81",
   "metadata": {},
   "source": [
    "### Incorrect values\n",
    "\n",
    "The aim of this step is to identify values that are Inherently incorrect, such as negative values or outliers "
   ]
  },
  {
   "cell_type": "code",
   "execution_count": 4,
   "id": "5b118a1e",
   "metadata": {
    "scrolled": false
   },
   "outputs": [
    {
     "data": {
      "text/html": [
       "<b>Table 2: Summary of numerical features</b>"
      ],
      "text/plain": [
       "<IPython.core.display.HTML object>"
      ]
     },
     "metadata": {},
     "output_type": "display_data"
    },
    {
     "data": {
      "text/html": [
       "<div>\n",
       "<style scoped>\n",
       "    .dataframe tbody tr th:only-of-type {\n",
       "        vertical-align: middle;\n",
       "    }\n",
       "\n",
       "    .dataframe tbody tr th {\n",
       "        vertical-align: top;\n",
       "    }\n",
       "\n",
       "    .dataframe thead th {\n",
       "        text-align: right;\n",
       "    }\n",
       "</style>\n",
       "<table border=\"1\" class=\"dataframe\">\n",
       "  <thead>\n",
       "    <tr style=\"text-align: right;\">\n",
       "      <th></th>\n",
       "      <th>count</th>\n",
       "      <th>mean</th>\n",
       "      <th>std</th>\n",
       "      <th>min</th>\n",
       "      <th>25%</th>\n",
       "      <th>50%</th>\n",
       "      <th>75%</th>\n",
       "      <th>max</th>\n",
       "    </tr>\n",
       "  </thead>\n",
       "  <tbody>\n",
       "    <tr>\n",
       "      <th>carat</th>\n",
       "      <td>53940.0</td>\n",
       "      <td>0.797940</td>\n",
       "      <td>0.474011</td>\n",
       "      <td>0.2</td>\n",
       "      <td>0.40</td>\n",
       "      <td>0.70</td>\n",
       "      <td>1.04</td>\n",
       "      <td>5.01</td>\n",
       "    </tr>\n",
       "    <tr>\n",
       "      <th>depth</th>\n",
       "      <td>53940.0</td>\n",
       "      <td>61.749405</td>\n",
       "      <td>1.432621</td>\n",
       "      <td>43.0</td>\n",
       "      <td>61.00</td>\n",
       "      <td>61.80</td>\n",
       "      <td>62.50</td>\n",
       "      <td>79.00</td>\n",
       "    </tr>\n",
       "    <tr>\n",
       "      <th>table</th>\n",
       "      <td>53940.0</td>\n",
       "      <td>57.457184</td>\n",
       "      <td>2.234491</td>\n",
       "      <td>43.0</td>\n",
       "      <td>56.00</td>\n",
       "      <td>57.00</td>\n",
       "      <td>59.00</td>\n",
       "      <td>95.00</td>\n",
       "    </tr>\n",
       "    <tr>\n",
       "      <th>x</th>\n",
       "      <td>53940.0</td>\n",
       "      <td>5.731157</td>\n",
       "      <td>1.121761</td>\n",
       "      <td>0.0</td>\n",
       "      <td>4.71</td>\n",
       "      <td>5.70</td>\n",
       "      <td>6.54</td>\n",
       "      <td>10.74</td>\n",
       "    </tr>\n",
       "    <tr>\n",
       "      <th>y</th>\n",
       "      <td>53940.0</td>\n",
       "      <td>5.734526</td>\n",
       "      <td>1.142135</td>\n",
       "      <td>0.0</td>\n",
       "      <td>4.72</td>\n",
       "      <td>5.71</td>\n",
       "      <td>6.54</td>\n",
       "      <td>58.90</td>\n",
       "    </tr>\n",
       "    <tr>\n",
       "      <th>z</th>\n",
       "      <td>53940.0</td>\n",
       "      <td>3.538734</td>\n",
       "      <td>0.705699</td>\n",
       "      <td>0.0</td>\n",
       "      <td>2.91</td>\n",
       "      <td>3.53</td>\n",
       "      <td>4.04</td>\n",
       "      <td>31.80</td>\n",
       "    </tr>\n",
       "    <tr>\n",
       "      <th>price</th>\n",
       "      <td>53940.0</td>\n",
       "      <td>3932.799722</td>\n",
       "      <td>3989.439738</td>\n",
       "      <td>326.0</td>\n",
       "      <td>950.00</td>\n",
       "      <td>2401.00</td>\n",
       "      <td>5324.25</td>\n",
       "      <td>18823.00</td>\n",
       "    </tr>\n",
       "  </tbody>\n",
       "</table>\n",
       "</div>"
      ],
      "text/plain": [
       "         count         mean          std    min     25%      50%      75%  \\\n",
       "carat  53940.0     0.797940     0.474011    0.2    0.40     0.70     1.04   \n",
       "depth  53940.0    61.749405     1.432621   43.0   61.00    61.80    62.50   \n",
       "table  53940.0    57.457184     2.234491   43.0   56.00    57.00    59.00   \n",
       "x      53940.0     5.731157     1.121761    0.0    4.71     5.70     6.54   \n",
       "y      53940.0     5.734526     1.142135    0.0    4.72     5.71     6.54   \n",
       "z      53940.0     3.538734     0.705699    0.0    2.91     3.53     4.04   \n",
       "price  53940.0  3932.799722  3989.439738  326.0  950.00  2401.00  5324.25   \n",
       "\n",
       "            max  \n",
       "carat      5.01  \n",
       "depth     79.00  \n",
       "table     95.00  \n",
       "x         10.74  \n",
       "y         58.90  \n",
       "z         31.80  \n",
       "price  18823.00  "
      ]
     },
     "execution_count": 4,
     "metadata": {},
     "output_type": "execute_result"
    }
   ],
   "source": [
    "#check for outliers\n",
    "from IPython.display import display, HTML\n",
    "display(HTML('<b>Table 2: Summary of numerical features</b>'))\n",
    "df.describe(include=['int64','float64']).T"
   ]
  },
  {
   "cell_type": "markdown",
   "id": "6c3223ad",
   "metadata": {},
   "source": [
    "Through analysing the summary of numerical features for this dataset, we are able to identify that no feature has a negative value as all the minimum values are greater or equal to zero. However, further examination of individual values from table 2 indicate that existence of outliers for the following columns:\n",
    "- carat\n",
    "- price\n",
    "- x\n",
    "- y\n",
    "- z\n",
    "\n",
    "This was identified through examining the minimum and maximum values of each column and comparing it its mean, as a minimum or maximum value that have a large gap from its mean may indicate the presence of outliers."
   ]
  },
  {
   "cell_type": "markdown",
   "id": "f64297a6",
   "metadata": {},
   "source": [
    "### Calculating and removing outliers"
   ]
  },
  {
   "cell_type": "code",
   "execution_count": 15,
   "id": "98544d9f",
   "metadata": {},
   "outputs": [
    {
     "name": "stdout",
     "output_type": "stream",
     "text": [
      "Lower whisker: -0.5599999999999999, Upper whisker: 2.0\n"
     ]
    }
   ],
   "source": [
    "#calculating whisker for carat\n",
    "iqr_c = 1.04 - 0.40\n",
    "lowerwhisker_c = 0.40 - 1.5*iqr_c\n",
    "upperwhisker_c = 1.04 + 1.5*iqr_c\n",
    "print(f\"Lower whisker: {lowerwhisker_c}, Upper whisker: {upperwhisker_c}\")\n",
    "\n",
    "df = df[(df['carat'] > lowerwhisker_c) & (df['carat'] < upperwhisker_c)]"
   ]
  },
  {
   "cell_type": "code",
   "execution_count": 16,
   "id": "494e6cc3",
   "metadata": {},
   "outputs": [
    {
     "name": "stdout",
     "output_type": "stream",
     "text": [
      "Lower whisker: 1.9649999999999999, Upper whisker: 9.285\n"
     ]
    }
   ],
   "source": [
    "#calculating whisker for length\n",
    "iqr_x = 6.54 - 4.71\n",
    "lowerwhisker_x = 4.71 - 1.5*iqr_x\n",
    "upperwhisker_x = 6.54 + 1.5*iqr_x\n",
    "print(f\"Lower whisker: {lowerwhisker_x}, Upper whisker: {upperwhisker_x}\")\n",
    "\n",
    "df = df[(df['x'] > lowerwhisker_x) & (df['x'] < upperwhisker_x)]"
   ]
  },
  {
   "cell_type": "code",
   "execution_count": 18,
   "id": "965842ee",
   "metadata": {},
   "outputs": [
    {
     "name": "stdout",
     "output_type": "stream",
     "text": [
      "Lower whisker: 1.9899999999999993, Upper whisker: 9.27\n"
     ]
    }
   ],
   "source": [
    "#calculating whisker for width\n",
    "iqr_y = 6.54 - 4.72\n",
    "lowerwhisker_y = 4.72 - 1.5*iqr_y\n",
    "upperwhisker_y = 6.54 + 1.5*iqr_y\n",
    "print(f\"Lower whisker: {lowerwhisker_y}, Upper whisker: {upperwhisker_y}\")\n",
    "\n",
    "df = df[(df['y'] > lowerwhisker_y) & (df['y'] < upperwhisker_y)]"
   ]
  },
  {
   "cell_type": "code",
   "execution_count": 19,
   "id": "4cf135d4",
   "metadata": {},
   "outputs": [
    {
     "name": "stdout",
     "output_type": "stream",
     "text": [
      "Lower whisker: 1.2150000000000003, Upper whisker: 5.734999999999999\n"
     ]
    }
   ],
   "source": [
    "#calculating whisker for depth\n",
    "\n",
    "iqr_z = 4.04 - 2.91\n",
    "lowerwhisker_z = 2.91 - 1.5*iqr_z\n",
    "upperwhisker_z = 4.04 + 1.5*iqr_z\n",
    "print(f\"Lower whisker: {lowerwhisker_z}, Upper whisker: {upperwhisker_z}\")\n",
    "\n",
    "df = df[(df['z'] > lowerwhisker_z) & (df['z'] < upperwhisker_z)]"
   ]
  },
  {
   "cell_type": "code",
   "execution_count": 20,
   "id": "132125f1",
   "metadata": {},
   "outputs": [
    {
     "name": "stdout",
     "output_type": "stream",
     "text": [
      "Lower whisker: -1237.125, Upper whisker: 7511.375\n"
     ]
    }
   ],
   "source": [
    "#calculating whisker for price\n",
    "iqr_p = 5324.25 - 950.0\n",
    "lowerwhisker_p = 5324.25 - 1.5*iqr_p\n",
    "upperwhisker_p = 950.0 + 1.5*iqr_p\n",
    "print(f\"Lower whisker: {lowerwhisker_p}, Upper whisker: {upperwhisker_p}\")\n",
    "\n",
    "df = df[(df['price'] > lowerwhisker_p) & (df['price'] < upperwhisker_p)]"
   ]
  },
  {
   "cell_type": "code",
   "execution_count": 22,
   "id": "7d289e40",
   "metadata": {},
   "outputs": [
    {
     "data": {
      "text/html": [
       "<div>\n",
       "<style scoped>\n",
       "    .dataframe tbody tr th:only-of-type {\n",
       "        vertical-align: middle;\n",
       "    }\n",
       "\n",
       "    .dataframe tbody tr th {\n",
       "        vertical-align: top;\n",
       "    }\n",
       "\n",
       "    .dataframe thead th {\n",
       "        text-align: right;\n",
       "    }\n",
       "</style>\n",
       "<table border=\"1\" class=\"dataframe\">\n",
       "  <thead>\n",
       "    <tr style=\"text-align: right;\">\n",
       "      <th></th>\n",
       "      <th>count</th>\n",
       "      <th>mean</th>\n",
       "      <th>std</th>\n",
       "      <th>min</th>\n",
       "      <th>25%</th>\n",
       "      <th>50%</th>\n",
       "      <th>75%</th>\n",
       "      <th>max</th>\n",
       "    </tr>\n",
       "  </thead>\n",
       "  <tbody>\n",
       "    <tr>\n",
       "      <th>carat</th>\n",
       "      <td>45514.0</td>\n",
       "      <td>0.651037</td>\n",
       "      <td>0.315449</td>\n",
       "      <td>0.20</td>\n",
       "      <td>0.36</td>\n",
       "      <td>0.56</td>\n",
       "      <td>0.91</td>\n",
       "      <td>1.96</td>\n",
       "    </tr>\n",
       "    <tr>\n",
       "      <th>depth</th>\n",
       "      <td>45514.0</td>\n",
       "      <td>61.759848</td>\n",
       "      <td>1.427645</td>\n",
       "      <td>43.00</td>\n",
       "      <td>61.10</td>\n",
       "      <td>61.80</td>\n",
       "      <td>62.50</td>\n",
       "      <td>79.00</td>\n",
       "    </tr>\n",
       "    <tr>\n",
       "      <th>table</th>\n",
       "      <td>45514.0</td>\n",
       "      <td>57.390460</td>\n",
       "      <td>2.237125</td>\n",
       "      <td>43.00</td>\n",
       "      <td>56.00</td>\n",
       "      <td>57.00</td>\n",
       "      <td>59.00</td>\n",
       "      <td>79.00</td>\n",
       "    </tr>\n",
       "    <tr>\n",
       "      <th>x</th>\n",
       "      <td>45514.0</td>\n",
       "      <td>5.416562</td>\n",
       "      <td>0.883230</td>\n",
       "      <td>3.73</td>\n",
       "      <td>4.59</td>\n",
       "      <td>5.30</td>\n",
       "      <td>6.22</td>\n",
       "      <td>8.10</td>\n",
       "    </tr>\n",
       "    <tr>\n",
       "      <th>y</th>\n",
       "      <td>45514.0</td>\n",
       "      <td>5.419919</td>\n",
       "      <td>0.876001</td>\n",
       "      <td>3.68</td>\n",
       "      <td>4.59</td>\n",
       "      <td>5.30</td>\n",
       "      <td>6.22</td>\n",
       "      <td>8.05</td>\n",
       "    </tr>\n",
       "    <tr>\n",
       "      <th>z</th>\n",
       "      <td>45514.0</td>\n",
       "      <td>3.346268</td>\n",
       "      <td>0.548090</td>\n",
       "      <td>2.06</td>\n",
       "      <td>2.82</td>\n",
       "      <td>3.26</td>\n",
       "      <td>3.86</td>\n",
       "      <td>5.12</td>\n",
       "    </tr>\n",
       "    <tr>\n",
       "      <th>price</th>\n",
       "      <td>45514.0</td>\n",
       "      <td>2490.446895</td>\n",
       "      <td>1912.847077</td>\n",
       "      <td>326.00</td>\n",
       "      <td>861.00</td>\n",
       "      <td>1819.00</td>\n",
       "      <td>3897.00</td>\n",
       "      <td>7511.00</td>\n",
       "    </tr>\n",
       "  </tbody>\n",
       "</table>\n",
       "</div>"
      ],
      "text/plain": [
       "         count         mean          std     min     25%      50%      75%  \\\n",
       "carat  45514.0     0.651037     0.315449    0.20    0.36     0.56     0.91   \n",
       "depth  45514.0    61.759848     1.427645   43.00   61.10    61.80    62.50   \n",
       "table  45514.0    57.390460     2.237125   43.00   56.00    57.00    59.00   \n",
       "x      45514.0     5.416562     0.883230    3.73    4.59     5.30     6.22   \n",
       "y      45514.0     5.419919     0.876001    3.68    4.59     5.30     6.22   \n",
       "z      45514.0     3.346268     0.548090    2.06    2.82     3.26     3.86   \n",
       "price  45514.0  2490.446895  1912.847077  326.00  861.00  1819.00  3897.00   \n",
       "\n",
       "           max  \n",
       "carat     1.96  \n",
       "depth    79.00  \n",
       "table    79.00  \n",
       "x         8.10  \n",
       "y         8.05  \n",
       "z         5.12  \n",
       "price  7511.00  "
      ]
     },
     "execution_count": 22,
     "metadata": {},
     "output_type": "execute_result"
    }
   ],
   "source": [
    "df.describe(include=['int64','float64']).T "
   ]
  },
  {
   "cell_type": "markdown",
   "id": "d9a8c879",
   "metadata": {},
   "source": [
    "### Aggregation"
   ]
  },
  {
   "cell_type": "code",
   "execution_count": null,
   "id": "2a345710",
   "metadata": {
    "scrolled": true
   },
   "outputs": [],
   "source": [
    "#encoding cut\n",
    "cut = {'Fair': 0, 'Good': 1, 'Very Good': 2, 'Premium': 3, 'Ideal': 4}\n",
    "df['cut'].replace(cut, inplace=True)\n",
    "df.head()"
   ]
  },
  {
   "cell_type": "code",
   "execution_count": null,
   "id": "b2d82a04",
   "metadata": {},
   "outputs": [],
   "source": [
    "#encoding color\n",
    "color = {'D': 6, 'E': 5, 'F': 4, 'G': 3, 'H': 2, 'I': 1, 'J': 0}\n",
    "df['color'].replace(color, inplace=True)\n",
    "df.head()"
   ]
  },
  {
   "cell_type": "code",
   "execution_count": null,
   "id": "1d6a6ab2",
   "metadata": {},
   "outputs": [],
   "source": [
    "#encoding clarity\n",
    "clarity = {'I2': 0, 'I1': 1, 'SI2': 2, 'SI1': 3, 'VS2': 4, 'VS1': 5, 'VVS2': 6, 'VVS1': 7, 'IF': 8}\n",
    "df['clarity'].replace(clarity, inplace=True)\n",
    "df.head()"
   ]
  },
  {
   "cell_type": "code",
   "execution_count": null,
   "id": "cd6075dd",
   "metadata": {},
   "outputs": [],
   "source": [
    "print(f\"This is the dataset shape: {df.shape} \\n\")\n",
    "print(f\"These are the data types; 'object' stands for string type:\")\n",
    "print(df.dtypes)"
   ]
  },
  {
   "cell_type": "markdown",
   "id": "4f343864",
   "metadata": {},
   "source": [
    "### Renaming Columns"
   ]
  },
  {
   "cell_type": "code",
   "execution_count": null,
   "id": "3d31f603",
   "metadata": {},
   "outputs": [],
   "source": [
    "df.columns"
   ]
  },
  {
   "cell_type": "code",
   "execution_count": null,
   "id": "499aedfd",
   "metadata": {},
   "outputs": [],
   "source": [
    "#Changing name of columns\n",
    "df.columns = df.columns.str.lower().str.strip()\n",
    "\n",
    "columns_mapping = {\n",
    "    'depth': 'depth percentage',\n",
    "    'x': 'length',\n",
    "    'y': 'width',\n",
    "    'z': 'depth',\n",
    "}\n",
    "\n",
    "df = df.rename(columns = columns_mapping)\n",
    "df.sample(5, random_state=999)"
   ]
  },
  {
   "cell_type": "markdown",
   "id": "f5829ffe",
   "metadata": {},
   "source": [
    "## Random Sampling"
   ]
  },
  {
   "cell_type": "code",
   "execution_count": null,
   "id": "24941713",
   "metadata": {},
   "outputs": [],
   "source": [
    "df = df.sample(n=1500, random_state=5)\n",
    "df.shape\n",
    "df.sample(5, random_state=5)"
   ]
  },
  {
   "cell_type": "markdown",
   "id": "2fb68580",
   "metadata": {},
   "source": [
    "# Data Exploration and Visualisation(15)\n",
    "\n",
    "two people need to do 3 graphs, 3 people need to do 4 graphs \n",
    "this needs to be a mix of scatter, bar, box, count,"
   ]
  },
  {
   "cell_type": "markdown",
   "id": "0ccbfdeb",
   "metadata": {},
   "source": [
    "### Univariable Visualisation"
   ]
  },
  {
   "cell_type": "markdown",
   "id": "7eb3997f",
   "metadata": {},
   "source": [
    "#### Histogram of diamond length"
   ]
  },
  {
   "cell_type": "code",
   "execution_count": null,
   "id": "23d92f57",
   "metadata": {},
   "outputs": [],
   "source": [
    "sns.histplot(df['length'], bins= 10, color='deeppink')\n",
    "plt.xlabel (\"Length of a diamond\")\n",
    "plt.ylabel (\"Count\")\n",
    "plt.title(\"Histogram of length of diamonds\")\n",
    "plt.show()"
   ]
  },
  {
   "cell_type": "markdown",
   "id": "7a72064e",
   "metadata": {},
   "source": [
    "#### Boxplot of price of diamond"
   ]
  },
  {
   "cell_type": "code",
   "execution_count": null,
   "id": "7e3d3c9a",
   "metadata": {},
   "outputs": [],
   "source": [
    "plt.title(\"Boxplot of price of diamond\")\n",
    "sns.boxplot(df['price'], color='skyblue')\n",
    "plt.xlabel('price')\n",
    "plt.ylabel('Number of diamonds')\n",
    "plt.show()"
   ]
  },
  {
   "cell_type": "markdown",
   "id": "2976bc01",
   "metadata": {},
   "source": [
    "#### Histogram of clarity of diamond grade"
   ]
  },
  {
   "cell_type": "code",
   "execution_count": null,
   "id": "11d78208",
   "metadata": {},
   "outputs": [],
   "source": [
    "plt.title(\"Histogram of Clarity of Diamonds\")\n",
    "sns.histplot(df['clarity'], bins=8, color='red')\n",
    "plt.xlabel(\"Grade for Clarity of Diamonds\")\n",
    "plt.ylabel(\"Number of Diamonds\")\n",
    "plt.show()"
   ]
  },
  {
   "cell_type": "markdown",
   "id": "84a73975",
   "metadata": {},
   "source": [
    "### Histogram of carat"
   ]
  },
  {
   "cell_type": "code",
   "execution_count": null,
   "id": "49939f47",
   "metadata": {},
   "outputs": [],
   "source": [
    "sns.histplot(df['carat'], bins = 10)\n",
    "plt.xlabel(\"Carat of a diamond\")\n",
    "plt.ylabel(\"Count\")\n",
    "plt.title(\"Histogram of Carat of Diamonds\")\n",
    "plt.show();"
   ]
  },
  {
   "cell_type": "code",
   "execution_count": null,
   "id": "7968524d",
   "metadata": {},
   "outputs": [],
   "source": []
  },
  {
   "cell_type": "code",
   "execution_count": null,
   "id": "f1e4348a",
   "metadata": {},
   "outputs": [],
   "source": []
  },
  {
   "cell_type": "markdown",
   "id": "067e59ca",
   "metadata": {},
   "source": [
    "### Two Variable Visualisation"
   ]
  },
  {
   "cell_type": "markdown",
   "id": "f911a7d6",
   "metadata": {},
   "source": [
    "#### Scatterplot of price of diamonds according to their length"
   ]
  },
  {
   "cell_type": "code",
   "execution_count": null,
   "id": "4b74d2fd",
   "metadata": {},
   "outputs": [],
   "source": [
    "sns.scatterplot(df['length'], df['price'])\n",
    "plt.xlabel(\"Length of a diamond\")\n",
    "plt.ylabel(\"Price of diamond\")\n",
    "plt.title(\"Scatter Plot of length and price\")\n",
    "plt.show();"
   ]
  },
  {
   "cell_type": "code",
   "execution_count": null,
   "id": "b1dd6d59",
   "metadata": {},
   "outputs": [],
   "source": [
    "plt.title(\"Boxplot or price grouped by clarity\")\n",
    "sns.boxplot(x=\"clarity\", y=\"price\", data=df, palette=\"rocket_r\")"
   ]
  },
  {
   "cell_type": "markdown",
   "id": "6bd65557",
   "metadata": {},
   "source": [
    "### Scatterplot of table and depth percentage against price"
   ]
  },
  {
   "cell_type": "code",
   "execution_count": null,
   "id": "c88bb7d6",
   "metadata": {},
   "outputs": [],
   "source": [
    "fig = plt.figure()\n",
    "fig.set_figwidth(20)\n",
    "ax1 = fig.add_subplot(121)\n",
    "ax2 = fig.add_subplot(122)\n",
    "\n",
    "\n",
    "\n",
    "ax1.scatter(df['table'], df['price'])\n",
    "ax1.set_title('Scatterplot of price and table percentage')\n",
    "ax1.set_xlabel('table percentage')\n",
    "ax1.set_ylabel('price')\n",
    "\n",
    "\n",
    "ax2.scatter(df['depth percentage'], df['price'])\n",
    "ax2.set_title('Scatterplot of price and depth percentage')\n",
    "ax2.set_xlabel('depth percentage')\n",
    "ax2.set_ylabel('price')\n",
    "plt.show()"
   ]
  },
  {
   "cell_type": "code",
   "execution_count": null,
   "id": "656cae8b",
   "metadata": {},
   "outputs": [],
   "source": [
    "#alternate version \n",
    "sns.relplot(data=df, x=\"carat\", y=\"price\", kind=\"line\")\n",
    "plt.title('Plot of carrat and price of the diamond')"
   ]
  },
  {
   "cell_type": "code",
   "execution_count": null,
   "id": "2063c37a",
   "metadata": {},
   "outputs": [],
   "source": []
  },
  {
   "cell_type": "markdown",
   "id": "52450361",
   "metadata": {},
   "source": [
    "### Three Variable Visualisation"
   ]
  },
  {
   "cell_type": "markdown",
   "id": "a0bf95ec",
   "metadata": {},
   "source": [
    "#### Scatter plot of price of diamonds depending on its length and categorised by color"
   ]
  },
  {
   "cell_type": "code",
   "execution_count": null,
   "id": "c5e85c52",
   "metadata": {},
   "outputs": [],
   "source": [
    "sns.scatterplot(df['length'], df['price'], hue = df['color'])\n",
    "plt.title(\"Scatterplot of price by length and color\")\n",
    "plt.xlabel(\"Length of a diamond\")\n",
    "plt.ylabel(\"Price of diamond\")\n",
    "plt.show();"
   ]
  },
  {
   "cell_type": "code",
   "execution_count": null,
   "id": "63b0e9e2",
   "metadata": {},
   "outputs": [],
   "source": [
    "sns.scatterplot(df['length'], df['price'], hue = df['length'], data = df, palette=\"viridis\")\n",
    "plt.title('Barplot of Diamond Prices by Carat and Length', fontsize = 15)\n",
    "plt.xlabel('length')\n",
    "plt.ylabel('Diamond Prices')\n",
    "plt.legend(loc='lower right', title='Length')\n",
    "plt.show();"
   ]
  },
  {
   "cell_type": "code",
   "execution_count": null,
   "id": "00a9741c",
   "metadata": {},
   "outputs": [],
   "source": [
    "sns.scatterplot(df['length'], df['price'], hue = df['clarity'], palette=\"rocket_r\")\n",
    "plt.title(\"Scatter plot of Price by Carat coloured by Clarity\")"
   ]
  },
  {
   "cell_type": "code",
   "execution_count": null,
   "id": "be82cee5",
   "metadata": {},
   "outputs": [],
   "source": [
    "x = sns.boxplot(df['color'], df['price'], hue = df['cut'], palette=\"flare\")\n",
    "\n",
    "x.legend(bbox_to_anchor=(1.05, 1),loc=2, borderaxespad=0.,\n",
    "          title=\"Cut Grade\");"
   ]
  },
  {
   "cell_type": "code",
   "execution_count": null,
   "id": "c011f698",
   "metadata": {},
   "outputs": [],
   "source": [
    "bp=sns.boxplot(x=df['clarity'],\n",
    "               y=df['price'],\n",
    "               hue=df['cut'], \n",
    "               data=df, palette=\"viridis\");\n",
    "\n",
    "bp.legend(bbox_to_anchor=(1.05, 1),loc=2, borderaxespad=0.,\n",
    "          title=\"Cut Grade\");\n",
    "\n",
    "plt.title(\"Boxplot of price according to clarity and cut\");"
   ]
  },
  {
   "cell_type": "code",
   "execution_count": null,
   "id": "0e2aab8b",
   "metadata": {},
   "outputs": [],
   "source": [
    "sns.scatterplot(df['length'], df['price'], hue = df['length'], data = df)\n",
    "plt.title('Barplot of Diamond Prices by Carat and Length', fontsize = 15)\n",
    "plt.xlabel('Carat')\n",
    "plt.ylabel('Diamond Prices')\n",
    "plt.legend(loc='lower right', title='Length')\n",
    "plt.show();"
   ]
  },
  {
   "cell_type": "code",
   "execution_count": null,
   "id": "90762af3",
   "metadata": {},
   "outputs": [],
   "source": [
    "#Prices for different width, lengths, and depths \n",
    "sns.set_style(\"darkgrid\")\n",
    "\n",
    "plt.title('Scatterplot of price for width and length and depth')\n",
    "sns.regplot(data=df, x=\"width\", y=\"price\", order=2, color=\"deeppink\", label='width')\n",
    "sns.regplot(data=df, x=\"length\", y=\"price\", order=2, color=\"darkblue\", label='length')\n",
    "sns.regplot(data=df, x=\"depth\", y=\"price\", order=2, color=\"lightblue\", label='depth')\n",
    "plt.legend(loc='lower right')\n",
    "plt.xlabel(\"Measurement\")"
   ]
  },
  {
   "cell_type": "markdown",
   "id": "ab1a2316",
   "metadata": {},
   "source": [
    "# Literature review (optional)\n",
    "\n",
    "Minimum 10 journal articles and 4 conference papers"
   ]
  },
  {
   "cell_type": "markdown",
   "id": "4269ce0c",
   "metadata": {},
   "source": [
    "# Summary and conclusion\n",
    "\n",
    "add the summary here"
   ]
  },
  {
   "cell_type": "markdown",
   "id": "5429020a",
   "metadata": {},
   "source": [
    "# References\n",
    "\n",
    "add references here"
   ]
  },
  {
   "cell_type": "code",
   "execution_count": null,
   "id": "ad49127d",
   "metadata": {},
   "outputs": [],
   "source": []
  }
 ],
 "metadata": {
  "kernelspec": {
   "display_name": "Python 3 (ipykernel)",
   "language": "python",
   "name": "python3"
  },
  "language_info": {
   "codemirror_mode": {
    "name": "ipython",
    "version": 3
   },
   "file_extension": ".py",
   "mimetype": "text/x-python",
   "name": "python",
   "nbconvert_exporter": "python",
   "pygments_lexer": "ipython3",
   "version": "3.9.12"
  },
  "varInspector": {
   "cols": {
    "lenName": 16,
    "lenType": 16,
    "lenVar": 40
   },
   "kernels_config": {
    "python": {
     "delete_cmd_postfix": "",
     "delete_cmd_prefix": "del ",
     "library": "var_list.py",
     "varRefreshCmd": "print(var_dic_list())"
    },
    "r": {
     "delete_cmd_postfix": ") ",
     "delete_cmd_prefix": "rm(",
     "library": "var_list.r",
     "varRefreshCmd": "cat(var_dic_list()) "
    }
   },
   "types_to_exclude": [
    "module",
    "function",
    "builtin_function_or_method",
    "instance",
    "_Feature"
   ],
   "window_display": false
  }
 },
 "nbformat": 4,
 "nbformat_minor": 5
}
