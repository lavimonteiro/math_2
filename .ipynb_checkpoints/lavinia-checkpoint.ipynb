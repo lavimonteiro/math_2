{
 "cells": [
  {
   "cell_type": "code",
   "execution_count": 2,
   "id": "2e2b3ad2",
   "metadata": {},
   "outputs": [
    {
     "name": "stdout",
     "output_type": "stream",
     "text": [
      "╒═══════════════╤═════════════════════╤═════════════╤═══════════════════════════════════════════════════════════════════════════════════════════════════════════════════════════════════════════════════════════════════════════════════════════════════════════════════╕\n",
      "│ Name          │ Datatype            │ Units       │ Description                                                                                                                                                                                                       │\n",
      "╞═══════════════╪═════════════════════╪═════════════╪═══════════════════════════════════════════════════════════════════════════════════════════════════════════════════════════════════════════════════════════════════════════════════════════════════════════════════╡\n",
      "│ Index counter │ Discrete Numeric    │ NA          │ Index of each diamond                                                                                                                                                                                             │\n",
      "├───────────────┼─────────────────────┼─────────────┼───────────────────────────────────────────────────────────────────────────────────────────────────────────────────────────────────────────────────────────────────────────────────────────────────────────────────┤\n",
      "│ Carat         │ Continous Numeric   │ Carats      │ Carat weight of diamond (1 carat = 0.20g)                                                                                                                                                                         │\n",
      "├───────────────┼─────────────────────┼─────────────┼───────────────────────────────────────────────────────────────────────────────────────────────────────────────────────────────────────────────────────────────────────────────────────────────────────────────────┤\n",
      "│ Cut           │ Ordinal Categorical │ NA          │ Quality of cut; Increasing order Fair, Good, Very Good,         Premium, Ideal                                                                                                                                    │\n",
      "├───────────────┼─────────────────────┼─────────────┼───────────────────────────────────────────────────────────────────────────────────────────────────────────────────────────────────────────────────────────────────────────────────────────────────────────────────┤\n",
      "│ Color         │ Ordinal Categorical │ NA          │ Colour grade of diamond; from best D, E, F, G, H, I, J to worst                                                                                                                                                   │\n",
      "├───────────────┼─────────────────────┼─────────────┼───────────────────────────────────────────────────────────────────────────────────────────────────────────────────────────────────────────────────────────────────────────────────────────────────────────────────┤\n",
      "│ Clarity       │ Ordinal Categorical │ NA          │ How obvious inclusions(small inperfections) are within the diamons           List from best to worst:                                                                                                             │\n",
      "│               │                     │             │ IF: flawless                                                                                                                                                                                                      │\n",
      "│               │                     │             │ VVS1 or VVS2: Very Very Slightly Included                                                                                                                                                                         │\n",
      "│               │                     │             │ VS1 or VS2: Very Slightly Included                                                                                                                                                                                │\n",
      "│               │                     │             │ S1 or S2: Slightly Included                                                                                                                                                                                       │\n",
      "│               │                     │             │ I1 or I2:Included                                                                                                                                                                                                 │\n",
      "├───────────────┼─────────────────────┼─────────────┼───────────────────────────────────────────────────────────────────────────────────────────────────────────────────────────────────────────────────────────────────────────────────────────────────────────────────┤\n",
      "│ Table         │ Continuous Numeric  │ percetange  │ width of the diamond's table(facet seen when diamond is viwed face up) relative to it's widest point                                                                                                              │\n",
      "├───────────────┼─────────────────────┼─────────────┼───────────────────────────────────────────────────────────────────────────────────────────────────────────────────────────────────────────────────────────────────────────────────────────────────────────────────┤\n",
      "│ price         │ Continous Numeric   │ US dollars  │ cost of the diamond                                                                                                                                                                                               │\n",
      "├───────────────┼─────────────────────┼─────────────┼───────────────────────────────────────────────────────────────────────────────────────────────────────────────────────────────────────────────────────────────────────────────────────────────────────────────────┤\n",
      "│ x             │ Continous Numeric   │ Millimetres │ length of the diamond                                                                                                                                                                                             │\n",
      "├───────────────┼─────────────────────┼─────────────┼───────────────────────────────────────────────────────────────────────────────────────────────────────────────────────────────────────────────────────────────────────────────────────────────────────────────────┤\n",
      "│ y             │ Continous Numeric   │ Millimetres │ width of the diamond                                                                                                                                                                                              │\n",
      "├───────────────┼─────────────────────┼─────────────┼───────────────────────────────────────────────────────────────────────────────────────────────────────────────────────────────────────────────────────────────────────────────────────────────────────────────────┤\n",
      "│ z             │ Continous Numeric   │ Millimetres │ depth of the diamond                                                                                                                                                                                              │\n",
      "├───────────────┼─────────────────────┼─────────────┼───────────────────────────────────────────────────────────────────────────────────────────────────────────────────────────────────────────────────────────────────────────────────────────────────────────────────┤\n",
      "│ Depth         │ Continous Numeric   │ percentage  │ Depth percentage measured from the cutlet(flat face at the bottom of the gemstone) to the table,        divided by its girdle(line that separates the crown from the pavillion of the edge of a diamond) diameter │\n",
      "╘═══════════════╧═════════════════════╧═════════════╧═══════════════════════════════════════════════════════════════════════════════════════════════════════════════════════════════════════════════════════════════════════════════════════════════════════════════════╛\n"
     ]
    }
   ],
   "source": [
    "import pandas as pd \n",
    "from tabulate import tabulate\n",
    "\n",
    "table = [['Name', 'Datatype', 'Units', 'Description'],\n",
    "         ['Index counter', 'Discrete Numeric', 'NA', 'Index of each diamond' ],\n",
    "         ['Carat', 'Continous Numeric', 'Carats', 'Carat weight of diamond (1 carat = 0.20g)'],\n",
    "         ['Cut', 'Ordinal Categorical', 'NA', 'Quality of cut; Increasing order Fair, Good, Very Good,\\\n",
    "         Premium, Ideal'],\n",
    "         ['Color', 'Ordinal Categorical', 'NA', 'Colour grade of diamond; from best D, E, F, G, H, I, J to worst'],\n",
    "         ['Clarity', 'Ordinal Categorical', 'NA', 'How obvious inclusions(small inperfections) are within the diamons \\\n",
    "          List from best to worst: \\\n",
    "          \\nIF: flawless \\nVVS1 or VVS2: Very Very Slightly Included \\nVS1 or VS2: Very Slightly Included \\\n",
    "          \\nS1 or S2: Slightly Included \\nI1 or I2:Included'],\n",
    "         ['Table', 'Continuous Numeric', 'percetange', 'width of the diamond\\'s table(facet seen when diamond is viwed face up) relative to it\\'s widest point'],\n",
    "         ['price', 'Continous Numeric', 'US dollars', 'cost of the diamond'],\n",
    "         ['x', 'Continous Numeric', 'Millimetres', 'length of the diamond'],\n",
    "         ['y', 'Continous Numeric', 'Millimetres', 'width of the diamond'],\n",
    "         ['z', 'Continous Numeric', 'Millimetres', 'depth of the diamond'],\n",
    "         ['Depth', 'Continous Numeric', 'percentage', 'Depth percentage measured from the cutlet(flat face at the bottom of the gemstone) to the table,\\\n",
    "        divided by its girdle(line that separates the crown from the pavillion of the edge of a diamond) diameter']\n",
    "        ]\n",
    "\n",
    "print(tabulate(table, headers='firstrow', tablefmt='fancy_grid'))\n"
   ]
  },
  {
   "cell_type": "code",
   "execution_count": 13,
   "id": "5cb09035",
   "metadata": {},
   "outputs": [
    {
     "ename": "IndentationError",
     "evalue": "unexpected indent (337536354.py, line 2)",
     "output_type": "error",
     "traceback": [
      "\u001b[0;36m  Input \u001b[0;32mIn [13]\u001b[0;36m\u001b[0m\n\u001b[0;31m    ['Index counter', 'Discrete Numeric', 'NA', 'Index of each diamond' ],\u001b[0m\n\u001b[0m    ^\u001b[0m\n\u001b[0;31mIndentationError\u001b[0m\u001b[0;31m:\u001b[0m unexpected indent\n"
     ]
    }
   ],
   "source": [
    "['Name', 'Datatype', 'Units', 'Description'],\n",
    "         ['Index counter', 'Discrete Numeric', 'NA', 'Index of each diamond' ],\n",
    "         ['Carat', 'Continous Numeric', 'Carats', 'Carat weight of diamond (1 carat = 0.20g)'],\n",
    "         ['Cut', 'Ordinal Categorical', 'NA', 'Quality of cut; Increasing order Fair, Good, Very Good,\\\n",
    "         Premium, Ideal'],\n",
    "         ['Color', 'Ordinal Categorical', 'NA', 'Colour grade of diamond; from best D, E, F, G, H, I, J to worst'],\n",
    "         ['Clarity', 'Ordinal Categorical', 'NA', 'How obvious inclusions(small inperfections) are within the diamons \\\n",
    "          List from best to worst: \\\n",
    "          \\nIF: flawless \\nVVS1 or VVS2: Very Very Slightly Included \\nVS1 or VS2: Very Slightly Included \\\n",
    "          \\nS1 or S2: Slightly Included \\nI1 or I2:Included'],\n",
    "         ['Table', 'Continuous Numeric', 'percetange', 'width of the diamond\\'s table(facet seen when diamond is viwed face up) relative to it\\'s widest point'],\n",
    "         ['price', 'Continous Numeric', 'US dollars', 'cost of the diamond'],\n",
    "         ['x', 'Continous Numeric', 'Millimetres', 'length of the diamond'],\n",
    "         ['y', 'Continous Numeric', 'Millimetres', 'width of the diamond'],\n",
    "         ['z', 'Continous Numeric', 'Millimetres', 'depth of the diamond'],\n",
    "         ['Depth', 'Continous Numeric', 'percentage', 'Depth percentage measured from the cutlet(flat face at the bottom of the gemstone) to the table,\\\n",
    "        divided by its girdle(line that separates the crown from the pavillion of the edge of a diamond) diameter']\n",
    "            \n",
    "            "
   ]
  },
  {
   "cell_type": "markdown",
   "id": "6af65d26",
   "metadata": {},
   "source": [
    "| Name | Datatype | Units | Description | \n",
    "| :-- | :-- | :-- | :-- |\n",
    "| Index counter | Discrete Numeric | NA | Index of each diamond |\n",
    "| Carat | Continuous Numeric | Carats | Carat weight of diamond (1 carat = 0.20g) |\n",
    "| Cut | Ordinal Categorical | NA | Quality of cut; Increasing order from Fair, Good, Very Good,Premium, Ideal |\n",
    "| Color | Ordinal Categorical | NA | Colour grade of diamond; from best D, E, F, G, H, I, J to worst |\n",
    "| Clarity | Ordinal Categorical | NA | How obvious inclusions(small imperfections) are within the diamonds List from best to worst: <br> IF: flawless <br><br>VVS1 or VVS2: Very Very Slightly Included <br> VS1 or VS2: Very Slightly Included <br> S1 or S2: Slightly Included <br> nI1 or I2:Included|\n",
    "| Table | Continuous Numeric | Percentage | width of the diamond's table(facet seen when diamond is viwed face up) relative to it's widest point |\n",
    "| price | Continuous Numeric | US dollars | cost of the diamond |\n",
    "| x | Continuous Numeric | Millimeter | length of the diamond |\n",
    "| y | Continuous Numeric | Millimeter | width of the diamond |\n",
    "| y | Continuous Numeric | Millimeter | depth of the diamond |\n",
    "| Depth | Continuous Numeric | percentage | Depth percentage measured from the cutlet(flat face at the bottom of the gemstone) to the table, divided by its girdle(line that separates the crown from the pavilion of the edge of a diamond) diameter |"
   ]
  }
 ],
 "metadata": {
  "kernelspec": {
   "display_name": "Python 3 (ipykernel)",
   "language": "python",
   "name": "python3"
  },
  "language_info": {
   "codemirror_mode": {
    "name": "ipython",
    "version": 3
   },
   "file_extension": ".py",
   "mimetype": "text/x-python",
   "name": "python",
   "nbconvert_exporter": "python",
   "pygments_lexer": "ipython3",
   "version": "3.9.12"
  }
 },
 "nbformat": 4,
 "nbformat_minor": 5
}
