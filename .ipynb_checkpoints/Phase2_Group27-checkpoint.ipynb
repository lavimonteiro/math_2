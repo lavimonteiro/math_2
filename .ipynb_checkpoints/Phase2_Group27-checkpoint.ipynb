{
 "cells": [
  {
   "cell_type": "markdown",
   "id": "5f6d5e8e",
   "metadata": {},
   "source": [
    "# Predicting Diamond Prices\n",
    "\n",
    "## Phase 2: ....\n",
    "\n",
    "<br>\n",
    "\n",
    "\n",
    "#### Group name: Group 27 <br>\n",
    "\n",
    "#### Name & IDs of group members:\n",
    "- Lavinia Beatriz Monteiro da Silva: s3939798 \n",
    "- Joy El-Hayek: s3972828 \n",
    "- Nicholas Sito: s3951974 \n",
    "- Cristian Fota: s3785541 \n",
    "- Shaikh Naima Labiba: s3954789"
   ]
  }
 ],
 "metadata": {
  "kernelspec": {
   "display_name": "Python 3 (ipykernel)",
   "language": "python",
   "name": "python3"
  },
  "language_info": {
   "codemirror_mode": {
    "name": "ipython",
    "version": 3
   },
   "file_extension": ".py",
   "mimetype": "text/x-python",
   "name": "python",
   "nbconvert_exporter": "python",
   "pygments_lexer": "ipython3",
   "version": "3.9.12"
  },
  "varInspector": {
   "cols": {
    "lenName": 16,
    "lenType": 16,
    "lenVar": 40
   },
   "kernels_config": {
    "python": {
     "delete_cmd_postfix": "",
     "delete_cmd_prefix": "del ",
     "library": "var_list.py",
     "varRefreshCmd": "print(var_dic_list())"
    },
    "r": {
     "delete_cmd_postfix": ") ",
     "delete_cmd_prefix": "rm(",
     "library": "var_list.r",
     "varRefreshCmd": "cat(var_dic_list()) "
    }
   },
   "types_to_exclude": [
    "module",
    "function",
    "builtin_function_or_method",
    "instance",
    "_Feature"
   ],
   "window_display": false
  }
 },
 "nbformat": 4,
 "nbformat_minor": 5
}
