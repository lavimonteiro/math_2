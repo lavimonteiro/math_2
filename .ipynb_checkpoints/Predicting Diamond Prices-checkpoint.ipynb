{
 "cells": [
  {
   "cell_type": "markdown",
   "id": "120b6411",
   "metadata": {},
   "source": [
    "# fill in with table of content later (5)"
   ]
  },
  {
   "cell_type": "markdown",
   "id": "083441d7",
   "metadata": {},
   "source": [
    "# introduction \n",
    "\n",
    "## Data source (3)\n",
    "\n",
    "add explanation about the data source (seb is doing it)\n",
    "\n",
    "## Dataset details (5)\n",
    "\n",
    "explain what the dataset is about, report on number of rows and columns and print 10 Random rows (seb is doing it)"
   ]
  },
  {
   "cell_type": "code",
   "execution_count": 2,
   "id": "941c3122",
   "metadata": {},
   "outputs": [],
   "source": [
    "#use this to print number of column to print number of rows and columsn + print 10 random rows "
   ]
  },
  {
   "cell_type": "markdown",
   "id": "45a69422",
   "metadata": {},
   "source": [
    "## Dataset variables (18) \n",
    "\n",
    "explain variables in dataset (in table format with four columns: name of variable, data type, units, brief description) (lavinia is doing it)"
   ]
  },
  {
   "cell_type": "code",
   "execution_count": 3,
   "id": "1b562ee7",
   "metadata": {},
   "outputs": [],
   "source": [
    "#use this to print the table"
   ]
  },
  {
   "cell_type": "markdown",
   "id": "7ab05b02",
   "metadata": {},
   "source": [
    "## response variables(2)\n",
    "\n",
    "clearly identify target variable(price) (lavinia is doing it)"
   ]
  },
  {
   "cell_type": "markdown",
   "id": "c1f01a03",
   "metadata": {},
   "source": [
    "# Goals and objectives (7)\n",
    "\n",
    "Throughout history, people have been drawn to exquisite, unique items. Diamonds are still regarded as the pinnacle of luxury in jewelery since they have been prized as jewels from ancient times and are admired for their brilliance. Diamonds are treasured for much more than just their alluring beauty, though. They have different qualities that allow people to use it for many different purposes such as a cutting tool, and other tasks requiring durability. This makes diamonds valued beyond all other stones due to their distinctive physical characteristics and are the most popular gemstone in the world."
   ]
  },
  {
   "cell_type": "markdown",
   "id": "eaaa6e44",
   "metadata": {},
   "source": [
    "Because of these different aspects that we discussed, a predictive model for diamonds' prices would have many practical use and applications in the real world. For example, it could help buyers determine if the price of a singular diamond is reasonable. Potential sellers of jewelry could also use this model to predict an estimate of the price of their diamond."
   ]
  },
  {
   "cell_type": "markdown",
   "id": "96fba209",
   "metadata": {},
   "source": [
    "There are 2 main objectives in this project. The first one is to predict the price of diamonds based on a number of different features, and which features appear to be the greatest indicators or predictors of the diamonds' prices. In addition to that, after some data preprocessing and preparation, which is the focus of this Phase 1 report, the second goal is to undertake some exploratory data analysis using basic descriptive statistics and data visualisation plots to obtain some insight into the patterns and correlations existent in the data."
   ]
  },
  {
   "cell_type": "markdown",
   "id": "e9b7fda2",
   "metadata": {},
   "source": [
    "At this stage, our presumption is that our dataset's rows are not associated. That is, we are assuming that the price of a certain diamond doesn't affect the price of another in this dataset. By making this assumption, we are able to utilize traditional predictive models such as multiple linear regression.\n",
    "(https://www.miningforschools.co.za/lets-explore/diamond/uses-of-diamonds)"
   ]
  },
  {
   "cell_type": "markdown",
   "id": "b4f4c992",
   "metadata": {},
   "source": [
    "# Data cleaning and processing (15)\n",
    "\n",
    "deal with missing values, outliers, incorrect values, id-like columns, data aggregation"
   ]
  },
  {
   "cell_type": "markdown",
   "id": "da9c48d9",
   "metadata": {},
   "source": [
    "### Missing values "
   ]
  },
  {
   "cell_type": "code",
   "execution_count": 5,
   "id": "df0e1291",
   "metadata": {},
   "outputs": [],
   "source": [
    "#check for missing values here "
   ]
  },
  {
   "cell_type": "markdown",
   "id": "47fbc301",
   "metadata": {},
   "source": [
    "### Incorrect values"
   ]
  },
  {
   "cell_type": "code",
   "execution_count": null,
   "id": "6528df5d",
   "metadata": {},
   "outputs": [],
   "source": [
    "#check for incorrect values"
   ]
  },
  {
   "cell_type": "markdown",
   "id": "bbc25685",
   "metadata": {},
   "source": [
    "### ID-like columns"
   ]
  },
  {
   "cell_type": "code",
   "execution_count": null,
   "id": "ac4c94ec",
   "metadata": {},
   "outputs": [],
   "source": [
    "#make id column into index for this table"
   ]
  },
  {
   "cell_type": "markdown",
   "id": "d9a8c879",
   "metadata": {},
   "source": [
    "### aggregation"
   ]
  },
  {
   "cell_type": "code",
   "execution_count": 7,
   "id": "2a345710",
   "metadata": {},
   "outputs": [],
   "source": [
    "#turn the categorical columns into numerical (most of ours will be integer enconding I believe)"
   ]
  },
  {
   "cell_type": "markdown",
   "id": "2fb68580",
   "metadata": {},
   "source": [
    "# Data Exploration and Visualisation(15)\n",
    "\n",
    "two people need to do 3 graphs, 3 people need to do 4 graphs \n",
    "this needs to be a mix of scatter, bar, box, count,"
   ]
  },
  {
   "cell_type": "markdown",
   "id": "0ccbfdeb",
   "metadata": {},
   "source": [
    "### Univariable Visualisation"
   ]
  },
  {
   "cell_type": "code",
   "execution_count": null,
   "id": "23d92f57",
   "metadata": {},
   "outputs": [],
   "source": [
    "#add min of 6 graphs"
   ]
  },
  {
   "cell_type": "markdown",
   "id": "067e59ca",
   "metadata": {},
   "source": [
    "### Two Variable Visualisation"
   ]
  },
  {
   "cell_type": "code",
   "execution_count": null,
   "id": "4b74d2fd",
   "metadata": {},
   "outputs": [],
   "source": [
    "#add min of 6 graphs"
   ]
  },
  {
   "cell_type": "markdown",
   "id": "52450361",
   "metadata": {},
   "source": [
    "### Three Variable Visualisation"
   ]
  },
  {
   "cell_type": "code",
   "execution_count": null,
   "id": "c5e85c52",
   "metadata": {},
   "outputs": [],
   "source": [
    "#add min of 6 graphs"
   ]
  },
  {
   "cell_type": "markdown",
   "id": "ab1a2316",
   "metadata": {},
   "source": [
    "# Literature review (optional)\n",
    "\n",
    "Minimum 10 journal articles and 4 conference papers"
   ]
  },
  {
   "cell_type": "markdown",
   "id": "4269ce0c",
   "metadata": {},
   "source": [
    "# Summary and conclusion\n",
    "\n",
    "add the summary here"
   ]
  },
  {
   "cell_type": "markdown",
   "id": "5429020a",
   "metadata": {},
   "source": [
    "# References\n",
    "\n",
    "add references here"
   ]
  }
 ],
 "metadata": {
  "kernelspec": {
   "display_name": "Python 3 (ipykernel)",
   "language": "python",
   "name": "python3"
  },
  "language_info": {
   "codemirror_mode": {
    "name": "ipython",
    "version": 3
   },
   "file_extension": ".py",
   "mimetype": "text/x-python",
   "name": "python",
   "nbconvert_exporter": "python",
   "pygments_lexer": "ipython3",
   "version": "3.9.12"
  },
  "varInspector": {
   "cols": {
    "lenName": 16,
    "lenType": 16,
    "lenVar": 40
   },
   "kernels_config": {
    "python": {
     "delete_cmd_postfix": "",
     "delete_cmd_prefix": "del ",
     "library": "var_list.py",
     "varRefreshCmd": "print(var_dic_list())"
    },
    "r": {
     "delete_cmd_postfix": ") ",
     "delete_cmd_prefix": "rm(",
     "library": "var_list.r",
     "varRefreshCmd": "cat(var_dic_list()) "
    }
   },
   "types_to_exclude": [
    "module",
    "function",
    "builtin_function_or_method",
    "instance",
    "_Feature"
   ],
   "window_display": false
  }
 },
 "nbformat": 4,
 "nbformat_minor": 5
}
