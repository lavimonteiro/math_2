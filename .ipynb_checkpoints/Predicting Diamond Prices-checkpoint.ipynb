{
 "cells": [
  {
   "cell_type": "markdown",
   "id": "120b6411",
   "metadata": {},
   "source": [
    "# fill in with table of content later (5)"
   ]
  },
  {
   "cell_type": "markdown",
   "id": "083441d7",
   "metadata": {},
   "source": [
    "# introduction \n",
    "\n",
    "## Data source (3)\n",
    "\n",
    "The 'Diamonds' dataset was used in a study conducted by Shivam Agrawal and sourced from Kaggle 2022. It analyzes almost 54,000 diamonds by their cut, colour, clarity, price and other attributes.\n",
    "\n",
    "## Dataset details (5)\n",
    "\n",
    "This dataset involves various details about diamonds to help with data analysis and visualization based on their attributes. These attributes include carat, cut, color, clarity, depth, table, price, length, width and depth. These attributes make it sufficient enough to predict the price of diamonds through predictive modelling.\n",
    "\n",
    "The dataset is made up of 53940 observartions (rows) and 10 variables (columns).\n",
    "Here are 10 randomly generated observations from the Diamonds dataset."
   ]
  },
  {
   "cell_type": "code",
   "execution_count": 5,
   "id": "7ad86620",
   "metadata": {},
   "outputs": [
    {
     "data": {
      "text/html": [
       "<div>\n",
       "<style scoped>\n",
       "    .dataframe tbody tr th:only-of-type {\n",
       "        vertical-align: middle;\n",
       "    }\n",
       "\n",
       "    .dataframe tbody tr th {\n",
       "        vertical-align: top;\n",
       "    }\n",
       "\n",
       "    .dataframe thead th {\n",
       "        text-align: right;\n",
       "    }\n",
       "</style>\n",
       "<table border=\"1\" class=\"dataframe\">\n",
       "  <thead>\n",
       "    <tr style=\"text-align: right;\">\n",
       "      <th></th>\n",
       "      <th>carat</th>\n",
       "      <th>cut</th>\n",
       "      <th>color</th>\n",
       "      <th>clarity</th>\n",
       "      <th>depth</th>\n",
       "      <th>table</th>\n",
       "      <th>x</th>\n",
       "      <th>y</th>\n",
       "      <th>z</th>\n",
       "      <th>price</th>\n",
       "    </tr>\n",
       "  </thead>\n",
       "  <tbody>\n",
       "    <tr>\n",
       "      <th>3193</th>\n",
       "      <td>0.77</td>\n",
       "      <td>Premium</td>\n",
       "      <td>F</td>\n",
       "      <td>VS1</td>\n",
       "      <td>62.1</td>\n",
       "      <td>60.0</td>\n",
       "      <td>5.82</td>\n",
       "      <td>5.77</td>\n",
       "      <td>3.60</td>\n",
       "      <td>3343</td>\n",
       "    </tr>\n",
       "    <tr>\n",
       "      <th>11363</th>\n",
       "      <td>1.10</td>\n",
       "      <td>Very Good</td>\n",
       "      <td>G</td>\n",
       "      <td>SI1</td>\n",
       "      <td>62.3</td>\n",
       "      <td>58.0</td>\n",
       "      <td>6.55</td>\n",
       "      <td>6.61</td>\n",
       "      <td>4.10</td>\n",
       "      <td>4997</td>\n",
       "    </tr>\n",
       "    <tr>\n",
       "      <th>43456</th>\n",
       "      <td>0.50</td>\n",
       "      <td>Premium</td>\n",
       "      <td>G</td>\n",
       "      <td>VS2</td>\n",
       "      <td>60.2</td>\n",
       "      <td>60.0</td>\n",
       "      <td>5.21</td>\n",
       "      <td>5.15</td>\n",
       "      <td>3.12</td>\n",
       "      <td>1415</td>\n",
       "    </tr>\n",
       "    <tr>\n",
       "      <th>44508</th>\n",
       "      <td>0.52</td>\n",
       "      <td>Ideal</td>\n",
       "      <td>D</td>\n",
       "      <td>SI1</td>\n",
       "      <td>60.0</td>\n",
       "      <td>56.0</td>\n",
       "      <td>5.19</td>\n",
       "      <td>5.24</td>\n",
       "      <td>3.13</td>\n",
       "      <td>1600</td>\n",
       "    </tr>\n",
       "    <tr>\n",
       "      <th>17936</th>\n",
       "      <td>1.05</td>\n",
       "      <td>Premium</td>\n",
       "      <td>F</td>\n",
       "      <td>VS2</td>\n",
       "      <td>62.3</td>\n",
       "      <td>59.0</td>\n",
       "      <td>6.50</td>\n",
       "      <td>6.46</td>\n",
       "      <td>4.04</td>\n",
       "      <td>7244</td>\n",
       "    </tr>\n",
       "    <tr>\n",
       "      <th>31825</th>\n",
       "      <td>0.34</td>\n",
       "      <td>Premium</td>\n",
       "      <td>H</td>\n",
       "      <td>VVS1</td>\n",
       "      <td>61.2</td>\n",
       "      <td>60.0</td>\n",
       "      <td>4.46</td>\n",
       "      <td>4.50</td>\n",
       "      <td>2.74</td>\n",
       "      <td>775</td>\n",
       "    </tr>\n",
       "    <tr>\n",
       "      <th>12839</th>\n",
       "      <td>1.04</td>\n",
       "      <td>Very Good</td>\n",
       "      <td>G</td>\n",
       "      <td>VS2</td>\n",
       "      <td>61.4</td>\n",
       "      <td>63.0</td>\n",
       "      <td>6.51</td>\n",
       "      <td>6.55</td>\n",
       "      <td>4.01</td>\n",
       "      <td>5353</td>\n",
       "    </tr>\n",
       "    <tr>\n",
       "      <th>4555</th>\n",
       "      <td>0.90</td>\n",
       "      <td>Very Good</td>\n",
       "      <td>H</td>\n",
       "      <td>SI1</td>\n",
       "      <td>63.0</td>\n",
       "      <td>58.0</td>\n",
       "      <td>6.13</td>\n",
       "      <td>6.18</td>\n",
       "      <td>3.88</td>\n",
       "      <td>3643</td>\n",
       "    </tr>\n",
       "    <tr>\n",
       "      <th>10181</th>\n",
       "      <td>0.90</td>\n",
       "      <td>Premium</td>\n",
       "      <td>D</td>\n",
       "      <td>SI1</td>\n",
       "      <td>59.4</td>\n",
       "      <td>61.0</td>\n",
       "      <td>6.32</td>\n",
       "      <td>6.30</td>\n",
       "      <td>3.75</td>\n",
       "      <td>4735</td>\n",
       "    </tr>\n",
       "    <tr>\n",
       "      <th>16773</th>\n",
       "      <td>1.13</td>\n",
       "      <td>Ideal</td>\n",
       "      <td>E</td>\n",
       "      <td>SI1</td>\n",
       "      <td>62.2</td>\n",
       "      <td>55.0</td>\n",
       "      <td>6.69</td>\n",
       "      <td>6.66</td>\n",
       "      <td>4.15</td>\n",
       "      <td>6682</td>\n",
       "    </tr>\n",
       "  </tbody>\n",
       "</table>\n",
       "</div>"
      ],
      "text/plain": [
       "       carat        cut color clarity  depth  table     x     y     z  price\n",
       "3193    0.77    Premium     F     VS1   62.1   60.0  5.82  5.77  3.60   3343\n",
       "11363   1.10  Very Good     G     SI1   62.3   58.0  6.55  6.61  4.10   4997\n",
       "43456   0.50    Premium     G     VS2   60.2   60.0  5.21  5.15  3.12   1415\n",
       "44508   0.52      Ideal     D     SI1   60.0   56.0  5.19  5.24  3.13   1600\n",
       "17936   1.05    Premium     F     VS2   62.3   59.0  6.50  6.46  4.04   7244\n",
       "31825   0.34    Premium     H    VVS1   61.2   60.0  4.46  4.50  2.74    775\n",
       "12839   1.04  Very Good     G     VS2   61.4   63.0  6.51  6.55  4.01   5353\n",
       "4555    0.90  Very Good     H     SI1   63.0   58.0  6.13  6.18  3.88   3643\n",
       "10181   0.90    Premium     D     SI1   59.4   61.0  6.32  6.30  3.75   4735\n",
       "16773   1.13      Ideal     E     SI1   62.2   55.0  6.69  6.66  4.15   6682"
      ]
     },
     "execution_count": 5,
     "metadata": {},
     "output_type": "execute_result"
    }
   ],
   "source": [
    "import pandas as pd\n",
    "\n",
    "df = pd.read_csv('diamonds.csv')\n",
    "\n",
    "df.sample(10)"
   ]
  },
  {
   "cell_type": "markdown",
   "id": "45a69422",
   "metadata": {},
   "source": [
    "## Dataset variables (18) \n",
    "\n",
    "explain variables in dataset (in table format with four columns: name of variable, data type, units, brief description) (lavinia is doing it)\n",
    "\n",
    "| Name | Datatype | Units | Description | \n",
    "| :-- | :-- | :-- | :-- |\n",
    "| Index counter | Discrete Numeric | NA | Index of each diamond |\n",
    "| Carat | Continuous Numeric | Carats | Carat weight of diamond (1 carat = 0.20g) |\n",
    "| Cut | Ordinal Categorical | NA | Quality of cut; Increasing order: Fair, Good, Very Good,Premium, Ideal |\n",
    "| Color | Ordinal Categorical | NA | Colour grade of diamond; (best)D, E, F, G, H, I, J(worst) |\n",
    "| Clarity | Ordinal Categorical | NA | How obvious inclusions(small imperfections) are within the diamonds. List from best to worst: <br> <b>IF:</b> flawless <br><b>VVS1 or VVS2:</b> Very Very Slightly Included <br> <b>VS1 or VS2:</b> Very Slightly Included <br> <b>S1 or S2</b>: Slightly Included <br> <b>nI1 or I2</b>:Included|\n",
    "| Table | Continuous Numeric | Percentage | width of the diamond's table(facet seen when diamond is viwed face up) relative to it's widest point |\n",
    "| price | Continuous Numeric | US dollars | cost of the diamond |\n",
    "| x | Continuous Numeric | Millimeter | length of the diamond |\n",
    "| y | Continuous Numeric | Millimeter | width of the diamond |\n",
    "| y | Continuous Numeric | Millimeter | depth of the diamond |\n",
    "| Depth | Continuous Numeric | percentage | Depth percentage measured from the cutlet(flat face at the bottom of the gemstone) to the table, divided by its girdle(line that separates the crown from the pavilion of the edge of a diamond) diameter |"
   ]
  },
  {
   "cell_type": "markdown",
   "id": "7ab05b02",
   "metadata": {},
   "source": [
    "## Target variables (2)\n",
    "\n",
    "The aim of this report is to investigate how a range of different variable can impact the price/value of a diamond. Therefore, the Target feature for this project will be price of diamonds in US dollars. "
   ]
  },
  {
   "cell_type": "markdown",
   "id": "c1f01a03",
   "metadata": {},
   "source": [
    "# Goals and objectives (7)\n",
    "\n",
    "Throughout history, people have been drawn to exquisite, unique items. Diamonds are still regarded as the pinnacle of luxury in jewelery since they have been prized as jewels from ancient times and are admired for their brilliance. Diamonds are treasured for much more than just their alluring beauty, though. They have different qualities that allow people to use it for many different purposes such as a cutting tool, and other tasks requiring durability. This makes diamonds valued beyond all other stones due to their distinctive physical characteristics and are the most popular gemstone in the world."
   ]
  },
  {
   "cell_type": "markdown",
   "id": "eaaa6e44",
   "metadata": {},
   "source": [
    "Because of these different aspects that we discussed, a predictive model for diamonds' prices would have many practical use and applications in the real world. For example, it could help buyers determine if the price of a singular diamond is reasonable. Potential sellers of jewelry could also use this model to predict an estimate of the price of their diamond."
   ]
  },
  {
   "cell_type": "markdown",
   "id": "96fba209",
   "metadata": {},
   "source": [
    "There are 2 main objectives in this project. The first one is to predict the price of diamonds based on a number of different features, and which features appear to be the greatest indicators or predictors of the diamonds' prices. In addition to that, after some data preprocessing and preparation, which is the focus of this Phase 1 report, the second goal is to undertake some exploratory data analysis using basic descriptive statistics and data visualisation plots to obtain some insight into the patterns and correlations existent in the data."
   ]
  },
  {
   "cell_type": "markdown",
   "id": "e9b7fda2",
   "metadata": {},
   "source": [
    "At this stage, our presumption is that our dataset's rows are not associated. That is, we are assuming that the price of a certain diamond doesn't affect the price of another in this dataset. By making this assumption, we are able to utilize traditional predictive models such as multiple linear regression.\n",
    "(https://www.miningforschools.co.za/lets-explore/diamond/uses-of-diamonds)"
   ]
  },
  {
   "cell_type": "markdown",
   "id": "b4f4c992",
   "metadata": {},
   "source": [
    "# Data cleaning and processing (15)\n",
    "\n",
    "deal with missing values, outliers, incorrect values, id-like columns, data aggregation"
   ]
  },
  {
   "cell_type": "markdown",
   "id": "da9c48d9",
   "metadata": {},
   "source": [
    "### Missing values "
   ]
  },
  {
   "cell_type": "code",
   "execution_count": 5,
   "id": "df0e1291",
   "metadata": {},
   "outputs": [],
   "source": [
    "#check for missing values here "
   ]
  },
  {
   "cell_type": "markdown",
   "id": "47fbc301",
   "metadata": {},
   "source": [
    "### Incorrect values"
   ]
  },
  {
   "cell_type": "code",
   "execution_count": null,
   "id": "6528df5d",
   "metadata": {},
   "outputs": [],
   "source": [
    "#check for incorrect values"
   ]
  },
  {
   "cell_type": "markdown",
   "id": "bbc25685",
   "metadata": {},
   "source": [
    "### ID-like columns"
   ]
  },
  {
   "cell_type": "code",
   "execution_count": null,
   "id": "ac4c94ec",
   "metadata": {},
   "outputs": [],
   "source": [
    "#make id column into index for this table"
   ]
  },
  {
   "cell_type": "markdown",
   "id": "d9a8c879",
   "metadata": {},
   "source": [
    "### aggregation"
   ]
  },
  {
   "cell_type": "code",
   "execution_count": 7,
   "id": "2a345710",
   "metadata": {},
   "outputs": [],
   "source": [
    "#turn the categorical columns into numerical (most of ours will be integer enconding I believe)"
   ]
  },
  {
   "cell_type": "markdown",
   "id": "2fb68580",
   "metadata": {},
   "source": [
    "# Data Exploration and Visualisation(15)\n",
    "\n",
    "two people need to do 3 graphs, 3 people need to do 4 graphs \n",
    "this needs to be a mix of scatter, bar, box, count,"
   ]
  },
  {
   "cell_type": "markdown",
   "id": "0ccbfdeb",
   "metadata": {},
   "source": [
    "### Univariable Visualisation"
   ]
  },
  {
   "cell_type": "code",
   "execution_count": null,
   "id": "23d92f57",
   "metadata": {},
   "outputs": [],
   "source": [
    "#add min of 6 graphs"
   ]
  },
  {
   "cell_type": "markdown",
   "id": "067e59ca",
   "metadata": {},
   "source": [
    "### Two Variable Visualisation"
   ]
  },
  {
   "cell_type": "code",
   "execution_count": null,
   "id": "4b74d2fd",
   "metadata": {},
   "outputs": [],
   "source": [
    "#add min of 6 graphs"
   ]
  },
  {
   "cell_type": "markdown",
   "id": "52450361",
   "metadata": {},
   "source": [
    "### Three Variable Visualisation"
   ]
  },
  {
   "cell_type": "code",
   "execution_count": null,
   "id": "c5e85c52",
   "metadata": {},
   "outputs": [],
   "source": [
    "#add min of 6 graphs"
   ]
  },
  {
   "cell_type": "markdown",
   "id": "ab1a2316",
   "metadata": {},
   "source": [
    "# Literature review (optional)\n",
    "\n",
    "Minimum 10 journal articles and 4 conference papers"
   ]
  },
  {
   "cell_type": "markdown",
   "id": "4269ce0c",
   "metadata": {},
   "source": [
    "# Summary and conclusion\n",
    "\n",
    "add the summary here"
   ]
  },
  {
   "cell_type": "markdown",
   "id": "5429020a",
   "metadata": {},
   "source": [
    "# References\n",
    "\n",
    "add references here"
   ]
  }
 ],
 "metadata": {
  "kernelspec": {
   "display_name": "Python 3 (ipykernel)",
   "language": "python",
   "name": "python3"
  },
  "language_info": {
   "codemirror_mode": {
    "name": "ipython",
    "version": 3
   },
   "file_extension": ".py",
   "mimetype": "text/x-python",
   "name": "python",
   "nbconvert_exporter": "python",
   "pygments_lexer": "ipython3",
   "version": "3.9.12"
  },
  "varInspector": {
   "cols": {
    "lenName": 16,
    "lenType": 16,
    "lenVar": 40
   },
   "kernels_config": {
    "python": {
     "delete_cmd_postfix": "",
     "delete_cmd_prefix": "del ",
     "library": "var_list.py",
     "varRefreshCmd": "print(var_dic_list())"
    },
    "r": {
     "delete_cmd_postfix": ") ",
     "delete_cmd_prefix": "rm(",
     "library": "var_list.r",
     "varRefreshCmd": "cat(var_dic_list()) "
    }
   },
   "types_to_exclude": [
    "module",
    "function",
    "builtin_function_or_method",
    "instance",
    "_Feature"
   ],
   "window_display": false
  }
 },
 "nbformat": 4,
 "nbformat_minor": 5
}
