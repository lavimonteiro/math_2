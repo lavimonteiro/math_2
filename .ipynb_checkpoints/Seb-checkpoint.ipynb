{
 "cells": [
  {
   "cell_type": "code",
   "execution_count": 1,
   "id": "8cebcfa1",
   "metadata": {},
   "outputs": [
    {
     "name": "stdout",
     "output_type": "stream",
     "text": [
      "seb\n"
     ]
    }
   ],
   "source": [
    "print('seb')"
   ]
  },
  {
   "cell_type": "code",
   "execution_count": 2,
   "id": "725d7776",
   "metadata": {},
   "outputs": [
    {
     "name": "stdout",
     "output_type": "stream",
     "text": [
      "seba\n"
     ]
    }
   ],
   "source": [
    "import numpy as fuckthisshit\n",
    "\n",
    "print(\"seba\")"
   ]
  },
  {
   "cell_type": "code",
   "execution_count": 3,
   "id": "a1debcc1",
   "metadata": {},
   "outputs": [
    {
     "name": "stdout",
     "output_type": "stream",
     "text": [
      "vdadgdfgfsgsd\n"
     ]
    }
   ],
   "source": [
    "print(\"vdadgdfgfsgsd\")"
   ]
  },
  {
   "cell_type": "code",
   "execution_count": 4,
   "id": "409f8073",
   "metadata": {},
   "outputs": [
    {
     "name": "stdout",
     "output_type": "stream",
     "text": [
      "dvdsdg\n"
     ]
    }
   ],
   "source": [
    "print(\"dvdsdg\")"
   ]
  },
  {
   "cell_type": "code",
   "execution_count": null,
   "id": "6d76e24c",
   "metadata": {},
   "outputs": [],
   "source": []
  }
 ],
 "metadata": {
  "kernelspec": {
   "display_name": "Python 3 (ipykernel)",
   "language": "python",
   "name": "python3"
  },
  "language_info": {
   "codemirror_mode": {
    "name": "ipython",
    "version": 3
   },
   "file_extension": ".py",
   "mimetype": "text/x-python",
   "name": "python",
   "nbconvert_exporter": "python",
   "pygments_lexer": "ipython3",
   "version": "3.9.12"
  }
 },
 "nbformat": 4,
 "nbformat_minor": 5
}
