{
 "cells": [
  {
   "cell_type": "markdown",
   "id": "120b6411",
   "metadata": {},
   "source": [
    "# fill in with table of content later (5)"
   ]
  },
  {
   "cell_type": "markdown",
   "id": "083441d7",
   "metadata": {},
   "source": [
    "# introduction \n",
    "\n",
    "## Data source (3)\n",
    "\n",
    "add explanation about the data source \n",
    "\n",
    "## Dataset details (5)\n",
    "\n",
    "explain what the dataset is about, report on number of rows and columns and print 10 Random rows "
   ]
  },
  {
   "cell_type": "code",
   "execution_count": 2,
   "id": "941c3122",
   "metadata": {},
   "outputs": [],
   "source": [
    "#use this to print number of column to print number of rows and columsn + print 10 random rows "
   ]
  },
  {
   "cell_type": "markdown",
   "id": "45a69422",
   "metadata": {},
   "source": [
    "## Dataset variables (18) \n",
    "\n",
    "explain variables in dataset (in table format with four columns: name of variable, data type, units, brief description)"
   ]
  },
  {
   "cell_type": "code",
   "execution_count": 3,
   "id": "1b562ee7",
   "metadata": {},
   "outputs": [],
   "source": [
    "#use this to print the table"
   ]
  },
  {
   "cell_type": "markdown",
   "id": "7ab05b02",
   "metadata": {},
   "source": [
    "## response variables\n",
    "\n",
    "clearly identify target variable "
   ]
  }
 ],
 "metadata": {
  "kernelspec": {
   "display_name": "Python 3 (ipykernel)",
   "language": "python",
   "name": "python3"
  },
  "language_info": {
   "codemirror_mode": {
    "name": "ipython",
    "version": 3
   },
   "file_extension": ".py",
   "mimetype": "text/x-python",
   "name": "python",
   "nbconvert_exporter": "python",
   "pygments_lexer": "ipython3",
   "version": "3.9.12"
  },
  "varInspector": {
   "cols": {
    "lenName": 16,
    "lenType": 16,
    "lenVar": 40
   },
   "kernels_config": {
    "python": {
     "delete_cmd_postfix": "",
     "delete_cmd_prefix": "del ",
     "library": "var_list.py",
     "varRefreshCmd": "print(var_dic_list())"
    },
    "r": {
     "delete_cmd_postfix": ") ",
     "delete_cmd_prefix": "rm(",
     "library": "var_list.r",
     "varRefreshCmd": "cat(var_dic_list()) "
    }
   },
   "types_to_exclude": [
    "module",
    "function",
    "builtin_function_or_method",
    "instance",
    "_Feature"
   ],
   "window_display": false
  }
 },
 "nbformat": 4,
 "nbformat_minor": 5
}
