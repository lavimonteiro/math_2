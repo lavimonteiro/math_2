{
 "cells": [
  {
   "cell_type": "markdown",
   "id": "5f6d5e8e",
   "metadata": {},
   "source": [
    "# Predicting Diamond Prices\n",
    "\n",
    "## Phase 2: Statistical Modelling\n",
    "\n",
    "<br>\n",
    "\n",
    "\n",
    "#### Group name: Group 27 <br>\n",
    "\n",
    "#### Name & IDs of group members:\n",
    "- Lavinia Beatriz Monteiro da Silva: s3939798 \n",
    "- Joy El-Hayek: s3972828 \n",
    "- Nicholas Sito: s3951974 \n",
    "- Cristian Fota: s3785541 \n",
    "- Shaikh Naima Labiba: s3954789"
   ]
  },
  {
   "cell_type": "markdown",
   "id": "d4e176db",
   "metadata": {},
   "source": [
    "## Table of Contents \n",
    "\n",
    "  * [Introduction](#Introduction)\n",
    "    + [Phase 1 Summary](#Phase-1-Summary)\n",
    "    + [Report Overview](#Report-Overview)\n",
    "    + [Overview of Methodology](#Overview-of-Methodology)\n",
    "  * [Statistical Modelling](#Statistical-Modelling)\n",
    "    + [Full Model Overview](#Full-Model-Overview)\n",
    "    + [Full Model Diagnostic Checks](#Full-Model-Diagnostic-Checks)\n",
    "    + [Feature Selection](#Feature-Selection)\n",
    "    + [Reduced Model Overview](#Reduced-Model-Overview)\n",
    "    + [Reduced Model Diagnostic Checks](#Reduced-Model-Diagnostic-Checks)\n",
    "  * [Summary & Conclusions](#Summary-&-Conclusions)\n",
    "    + [Project Summary](#Project-Summary)\n",
    "    + [Summary of Findings](#Summary-of-Findings)\n",
    "    + [Conclusions](#Conclusions)"
   ]
  },
  {
   "cell_type": "markdown",
   "id": "92f13509",
   "metadata": {},
   "source": [
    "## Introduction\n",
    "\n",
    "### Phase 1 Summary \n",
    "\n",
    "Through the Phase one of this project, we aimed to complete Data preparation and Visualisation of the \"Diamonds\" dataset sourced from Kaggle, where nearly 54,000 diamonds were analysed. The Target Feature chosen for the study was the price of diamonds in US dollars, and the explanatory variables included Carat, Cut, Color, Clarity, Table, price, depth percentage, depth, length, width. Presumptions such as that the dataset's rows were not associated were made, allowing us to utilise traditional predictive models such as multiple linear regression.\n",
    "\n",
    "Within Phase one multiple data cleaning and preprocessing steps were taken, these steps encompasses:\n",
    "\n",
    "<b>1. Checking for missing values</b><br>\n",
    "Upon checking, no missing values were found\n",
    "\n",
    "<b>2. Checking for incorrect values for both numerical and categorical features</b><br>\n",
    "This included checking for value that are inherently incorrect, such as negative values for prices or values that which were not listed as one of the options for categorical features. This examination indicated the existence of outliers for columns such as carat, price, width, depth, length\n",
    "\n",
    "<b>3. Calculating and removing outliers</b><br>\n",
    "All features mentioned above were checked for outliers and removed accordingly\n",
    "\n",
    "<b>4. Aggregation</b><br>\n",
    "This step included encoding the categorical columns (cut, color, clarity). As all variables were ordinals, integer-encoding was completed\n",
    "\n",
    "<b>5. Renaming column</b><br>\n",
    "Columns that had confusing or non-descriptive names were renamed, this includes depth, x, y, z, which were renamed to depth percentage, length, width and depth accordingly \n",
    "\n",
    "<b>6. Random Sampling</b><br>\n",
    "As the dataset had a significant number of rows, a ransom sample of 500 Rows were taken\n",
    "\n",
    "Subsequent to preprocessing steps, data exploration and visualisation was completed, where through a mix of univariable, two variable, and three Variable plots, the impact of various descriptive features on price of diamond were explored. The visualisations included a range of graphs, such as box plots, histograms, and scatter plots.\n",
    "\n",
    "Through this exploration we determined that the size of a diamond (evident through features such as length, width, depth and carat) had the most significant influence on price. Furthermore, other features such as cut and clarity also impacted price, where if a diamond of similar sizes were compared, the one with a greater scores for either of the aforementioned features would have a greater price. Conversely, the clarity scores feature seemed to not have a notice impact on price, it was discovered that bigger diamonds often has lower clarity grades, however further investigation regarding this would be necessary to confirm this relationship."
   ]
  },
  {
   "cell_type": "markdown",
   "id": "9db414d8",
   "metadata": {},
   "source": [
    "### Report Overview \n",
    "\n",
    "To-do: write overview of content in phase 2 (maybe we could write this after finishing the rest of the project)"
   ]
  },
  {
   "cell_type": "markdown",
   "id": "62feba66",
   "metadata": {},
   "source": [
    "### Overview of Methodology\n",
    "\n",
    "A detailed, complete, and accurate overview of your statistical modelling methodology (which is multiple linear regression). More specifically, in this subsection, you will provide a summary of your \"Statistical Modelling\" section below.\n",
    "\n"
   ]
  },
  {
   "cell_type": "markdown",
   "id": "23b60a3c",
   "metadata": {},
   "source": [
    "## Statistical Modelling \n",
    "\n",
    "(Statistical Modelling Section: Details of assumptions check, model selection, plots of residuals, and technical analysis of regression results.)"
   ]
  },
  {
   "cell_type": "markdown",
   "id": "b22e6abe",
   "metadata": {},
   "source": [
    "### Full Model Overview\n",
    "\n",
    "Overview of your full model, including the variables and terms you are using in your model."
   ]
  },
  {
   "cell_type": "markdown",
   "id": "99d9dc1d",
   "metadata": {},
   "source": [
    "#### module import "
   ]
  },
  {
   "cell_type": "code",
   "execution_count": 11,
   "id": "59869d75",
   "metadata": {},
   "outputs": [],
   "source": [
    "# this includes importing the \"clean\" version of the diamonds dataset \n",
    "# attained after the preprocessing in phase one\n",
    "\n",
    "import numpy as np\n",
    "import pandas as pd\n",
    "import matplotlib.pyplot as plt\n",
    "import seaborn as sns\n",
    "import statsmodels.api as sm\n",
    "import statsmodels.formula.api as smf\n",
    "import patsy\n",
    "\n",
    "import warnings\n",
    "warnings.filterwarnings('ignore')\n",
    "\n",
    "pd.set_option('display.max_columns', None) \n",
    "\n",
    "%matplotlib inline \n",
    "%config InlineBackend.figure_format = 'retina'\n",
    "plt.style.use(\"ggplot\")\n",
    "\n",
    "df = pd.read_csv('Phase2_Group27.csv')"
   ]
  },
  {
   "cell_type": "code",
   "execution_count": 9,
   "id": "fd8320f8",
   "metadata": {},
   "outputs": [
    {
     "name": "stdout",
     "output_type": "stream",
     "text": [
      "5000\n"
     ]
    },
    {
     "data": {
      "text/html": [
       "<div>\n",
       "<style scoped>\n",
       "    .dataframe tbody tr th:only-of-type {\n",
       "        vertical-align: middle;\n",
       "    }\n",
       "\n",
       "    .dataframe tbody tr th {\n",
       "        vertical-align: top;\n",
       "    }\n",
       "\n",
       "    .dataframe thead th {\n",
       "        text-align: right;\n",
       "    }\n",
       "</style>\n",
       "<table border=\"1\" class=\"dataframe\">\n",
       "  <thead>\n",
       "    <tr style=\"text-align: right;\">\n",
       "      <th></th>\n",
       "      <th>Unnamed: 0</th>\n",
       "      <th>carat</th>\n",
       "      <th>cut</th>\n",
       "      <th>color</th>\n",
       "      <th>clarity</th>\n",
       "      <th>depth percentage</th>\n",
       "      <th>table</th>\n",
       "      <th>length</th>\n",
       "      <th>width</th>\n",
       "      <th>depth</th>\n",
       "      <th>price</th>\n",
       "    </tr>\n",
       "  </thead>\n",
       "  <tbody>\n",
       "    <tr>\n",
       "      <th>0</th>\n",
       "      <td>36022</td>\n",
       "      <td>0.35</td>\n",
       "      <td>4</td>\n",
       "      <td>5</td>\n",
       "      <td>4</td>\n",
       "      <td>61.9</td>\n",
       "      <td>54.0</td>\n",
       "      <td>4.53</td>\n",
       "      <td>4.58</td>\n",
       "      <td>2.82</td>\n",
       "      <td>923</td>\n",
       "    </tr>\n",
       "    <tr>\n",
       "      <th>1</th>\n",
       "      <td>16512</td>\n",
       "      <td>1.01</td>\n",
       "      <td>2</td>\n",
       "      <td>4</td>\n",
       "      <td>4</td>\n",
       "      <td>60.0</td>\n",
       "      <td>63.0</td>\n",
       "      <td>6.46</td>\n",
       "      <td>6.48</td>\n",
       "      <td>3.88</td>\n",
       "      <td>6598</td>\n",
       "    </tr>\n",
       "    <tr>\n",
       "      <th>2</th>\n",
       "      <td>2600</td>\n",
       "      <td>1.18</td>\n",
       "      <td>2</td>\n",
       "      <td>5</td>\n",
       "      <td>1</td>\n",
       "      <td>59.9</td>\n",
       "      <td>63.0</td>\n",
       "      <td>6.80</td>\n",
       "      <td>6.85</td>\n",
       "      <td>4.09</td>\n",
       "      <td>3219</td>\n",
       "    </tr>\n",
       "    <tr>\n",
       "      <th>3</th>\n",
       "      <td>15184</td>\n",
       "      <td>1.00</td>\n",
       "      <td>2</td>\n",
       "      <td>4</td>\n",
       "      <td>5</td>\n",
       "      <td>58.4</td>\n",
       "      <td>63.0</td>\n",
       "      <td>6.58</td>\n",
       "      <td>6.47</td>\n",
       "      <td>3.81</td>\n",
       "      <td>6098</td>\n",
       "    </tr>\n",
       "    <tr>\n",
       "      <th>4</th>\n",
       "      <td>14331</td>\n",
       "      <td>1.16</td>\n",
       "      <td>4</td>\n",
       "      <td>6</td>\n",
       "      <td>3</td>\n",
       "      <td>62.0</td>\n",
       "      <td>56.0</td>\n",
       "      <td>6.73</td>\n",
       "      <td>6.76</td>\n",
       "      <td>4.18</td>\n",
       "      <td>5805</td>\n",
       "    </tr>\n",
       "  </tbody>\n",
       "</table>\n",
       "</div>"
      ],
      "text/plain": [
       "   Unnamed: 0  carat  cut  color  clarity  depth percentage  table  length  \\\n",
       "0       36022   0.35    4      5        4              61.9   54.0    4.53   \n",
       "1       16512   1.01    2      4        4              60.0   63.0    6.46   \n",
       "2        2600   1.18    2      5        1              59.9   63.0    6.80   \n",
       "3       15184   1.00    2      4        5              58.4   63.0    6.58   \n",
       "4       14331   1.16    4      6        3              62.0   56.0    6.73   \n",
       "\n",
       "   width  depth  price  \n",
       "0   4.58   2.82    923  \n",
       "1   6.48   3.88   6598  \n",
       "2   6.85   4.09   3219  \n",
       "3   6.47   3.81   6098  \n",
       "4   6.76   4.18   5805  "
      ]
     },
     "execution_count": 9,
     "metadata": {},
     "output_type": "execute_result"
    }
   ],
   "source": [
    "print(df.shape[0])\n",
    "df.head()"
   ]
  },
  {
   "cell_type": "markdown",
   "id": "02d3f586",
   "metadata": {},
   "source": [
    "### Full Model Diagnostic Checks\n",
    "\n",
    "You need to check whether there are indications of violations of the regression assumptions for the full model."
   ]
  },
  {
   "cell_type": "markdown",
   "id": "6461827e",
   "metadata": {},
   "source": [
    "### Feature Selection \n",
    "\n",
    "perform backward feature selection using p-values"
   ]
  },
  {
   "cell_type": "markdown",
   "id": "f1ffbe39",
   "metadata": {},
   "source": [
    "### Reduced Model Overview\n",
    "\n",
    "Overview of your reduced model, including the variables and terms you are using in your model."
   ]
  },
  {
   "cell_type": "markdown",
   "id": "e691ad04",
   "metadata": {},
   "source": [
    "### Reduced Model Diagnostic Checks\n",
    "\n",
    "You need to check whether there are indications of violations of the regression assumptions for the reduced model."
   ]
  },
  {
   "cell_type": "markdown",
   "id": "5a75b8b1",
   "metadata": {},
   "source": [
    "## Summary & Conclusions\n",
    "\n",
    "### Project Summary\n",
    "\n",
    "A comprehensive summary of your entire project (both Phase 1 and Phase 2). That is, what exactly did you do in your project? (Example: I first cleaned the data in such and such ways. And then I applied multiple linear regression techniques in such and such ways. etc)."
   ]
  },
  {
   "cell_type": "markdown",
   "id": "a4143548",
   "metadata": {},
   "source": [
    "### Summary of Findings\n",
    "\n",
    "A comprehensive summary of your findings. That is, what exactly did you find about your particular problem?"
   ]
  },
  {
   "cell_type": "markdown",
   "id": "223dc945",
   "metadata": {},
   "source": [
    "### Conclusions\n",
    "\n",
    "Your detailed conclusions as they relate to your goals and objectives."
   ]
  }
 ],
 "metadata": {
  "kernelspec": {
   "display_name": "Python 3 (ipykernel)",
   "language": "python",
   "name": "python3"
  },
  "language_info": {
   "codemirror_mode": {
    "name": "ipython",
    "version": 3
   },
   "file_extension": ".py",
   "mimetype": "text/x-python",
   "name": "python",
   "nbconvert_exporter": "python",
   "pygments_lexer": "ipython3",
   "version": "3.9.12"
  },
  "varInspector": {
   "cols": {
    "lenName": 16,
    "lenType": 16,
    "lenVar": 40
   },
   "kernels_config": {
    "python": {
     "delete_cmd_postfix": "",
     "delete_cmd_prefix": "del ",
     "library": "var_list.py",
     "varRefreshCmd": "print(var_dic_list())"
    },
    "r": {
     "delete_cmd_postfix": ") ",
     "delete_cmd_prefix": "rm(",
     "library": "var_list.r",
     "varRefreshCmd": "cat(var_dic_list()) "
    }
   },
   "types_to_exclude": [
    "module",
    "function",
    "builtin_function_or_method",
    "instance",
    "_Feature"
   ],
   "window_display": false
  }
 },
 "nbformat": 4,
 "nbformat_minor": 5
}
