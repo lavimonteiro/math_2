{
 "cells": [
  {
   "cell_type": "markdown",
   "id": "5f6d5e8e",
   "metadata": {},
   "source": [
    "# Predicting Diamond Prices\n",
    "\n",
    "## Phase 2: Statistical Modelling\n",
    "\n",
    "<br>\n",
    "\n",
    "\n",
    "#### Group name: Group 27 <br>\n",
    "\n",
    "#### Name & IDs of group members:\n",
    "- Lavinia Beatriz Monteiro da Silva: s3939798 \n",
    "- Joy El-Hayek: s3972828 \n",
    "- Nicholas Sito: s3951974 \n",
    "- Cristian Fota: s3785541 \n",
    "- Shaikh Naima Labiba: s3954789"
   ]
  },
  {
   "cell_type": "markdown",
   "id": "a02fa501",
   "metadata": {},
   "source": [
    "## Table of Contents \n",
    "\n",
    "### Change to match new layout\n",
    "  * [Introduction](#Introduction)\n",
    "    + [Dataset Source](#Dataset-Source)\n",
    "    + [Dataset Details](#Dataset-Details)\n",
    "    + [Dataset Variables](#Dataset-Variables)"
   ]
  },
  {
   "cell_type": "markdown",
   "id": "5a7638d5",
   "metadata": {},
   "source": [
    "## Introduction\n",
    "\n",
    "### Phase 1 Summary \n",
    "\n",
    "To-do: write summary"
   ]
  },
  {
   "cell_type": "markdown",
   "id": "ddb9e12e",
   "metadata": {},
   "source": [
    "### Report overview \n",
    "\n",
    "To-do: write overview of content in phase 2"
   ]
  },
  {
   "cell_type": "markdown",
   "id": "33c31bcc",
   "metadata": {},
   "source": [
    "### Overview of Methodology\n",
    "\n",
    "A detailed, complete, and accurate overview of your statistical modelling methodology (which is multiple linear regression). More specifically, in this subsection, you will provide a summary of your \"Statistical Modelling\" section below."
   ]
  },
  {
   "cell_type": "markdown",
   "id": "d58207f3",
   "metadata": {},
   "source": [
    "## Statistical Modelling \n",
    "\n",
    "(Statistical Modelling Section: Details of assumptions check, model selection, plots of residuals, and technical analysis of regression results.)"
   ]
  },
  {
   "cell_type": "markdown",
   "id": "63aabad2",
   "metadata": {},
   "source": [
    "### Full Model Overview\n",
    "\n",
    "Overview of your full model, including the variables and terms you are using in your model."
   ]
  },
  {
   "cell_type": "markdown",
   "id": "de9fe382",
   "metadata": {},
   "source": [
    "#### module import "
   ]
  },
  {
   "cell_type": "code",
   "execution_count": null,
   "id": "48a8f7de",
   "metadata": {},
   "outputs": [],
   "source": [
    "# Example\n",
    "\n",
    "import numpy as np\n",
    "import pandas as pd\n",
    "import matplotlib.pyplot as plt\n",
    "import seaborn as sns\n",
    "import statsmodels.api as sm\n",
    "import statsmodels.formula.api as smf\n",
    "import patsy\n",
    "\n",
    "import warnings\n",
    "warnings.filterwarnings('ignore')\n",
    "\n",
    "pd.set_option('display.max_columns', None) \n",
    "\n",
    "%matplotlib inline \n",
    "%config InlineBackend.figure_format = 'retina'\n",
    "plt.style.use(\"ggplot\")\n",
    "\n",
    "df = pd.read_csv('Phase2_Group???.csv')"
   ]
  },
  {
   "cell_type": "markdown",
   "id": "a1e7f1f6",
   "metadata": {},
   "source": [
    "### Full Model Diagnostic Checks\n",
    "\n",
    "You need to check whether there are indications of violations of the regression assumptions for the full model."
   ]
  },
  {
   "cell_type": "markdown",
   "id": "794ff9cb",
   "metadata": {},
   "source": [
    "### Feature Selection \n",
    "\n",
    "perform backward feature selection using p-values"
   ]
  },
  {
   "cell_type": "markdown",
   "id": "3be67449",
   "metadata": {},
   "source": [
    "### Reduced Model Overview\n",
    "\n",
    "Overview of your reduced model, including the variables and terms you are using in your model."
   ]
  },
  {
   "cell_type": "markdown",
   "id": "e3fb53b7",
   "metadata": {},
   "source": [
    "### Reduced Model Diagnostic Checks\n",
    "\n",
    "You need to check whether there are indications of violations of the regression assumptions for the reduced model."
   ]
  },
  {
   "cell_type": "markdown",
   "id": "07feaea8",
   "metadata": {},
   "source": [
    "## Summary & Conclusions\n",
    "\n",
    "### Project Summary\n",
    "\n",
    "A comprehensive summary of your entire project (both Phase 1 and Phase 2). That is, what exactly did you do in your project? (Example: I first cleaned the data in such and such ways. And then I applied multiple linear regression techniques in such and such ways. etc)."
   ]
  },
  {
   "cell_type": "markdown",
   "id": "26b7594b",
   "metadata": {},
   "source": [
    "### Summary of Findings\n",
    "\n",
    "A comprehensive summary of your findings. That is, what exactly did you find about your particular problem?"
   ]
  },
  {
   "cell_type": "markdown",
   "id": "18eebb02",
   "metadata": {},
   "source": [
    "### Conclusions\n",
    "\n",
    "Your detailed conclusions as they relate to your goals and objectives."
   ]
  }
 ],
 "metadata": {
  "kernelspec": {
   "display_name": "Python 3 (ipykernel)",
   "language": "python",
   "name": "python3"
  },
  "language_info": {
   "codemirror_mode": {
    "name": "ipython",
    "version": 3
   },
   "file_extension": ".py",
   "mimetype": "text/x-python",
   "name": "python",
   "nbconvert_exporter": "python",
   "pygments_lexer": "ipython3",
   "version": "3.9.12"
  },
  "varInspector": {
   "cols": {
    "lenName": 16,
    "lenType": 16,
    "lenVar": 40
   },
   "kernels_config": {
    "python": {
     "delete_cmd_postfix": "",
     "delete_cmd_prefix": "del ",
     "library": "var_list.py",
     "varRefreshCmd": "print(var_dic_list())"
    },
    "r": {
     "delete_cmd_postfix": ") ",
     "delete_cmd_prefix": "rm(",
     "library": "var_list.r",
     "varRefreshCmd": "cat(var_dic_list()) "
    }
   },
   "types_to_exclude": [
    "module",
    "function",
    "builtin_function_or_method",
    "instance",
    "_Feature"
   ],
   "window_display": false
  }
 },
 "nbformat": 4,
 "nbformat_minor": 5
}
